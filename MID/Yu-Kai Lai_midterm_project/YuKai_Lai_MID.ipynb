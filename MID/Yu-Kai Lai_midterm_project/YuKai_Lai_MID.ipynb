{
 "cells": [
  {
   "cell_type": "code",
   "execution_count": 3,
   "metadata": {
    "colab": {
     "base_uri": "https://localhost:8080/"
    },
    "id": "J93a2JElfqlj",
    "outputId": "73e52d48-6a39-436e-a3f7-b5d108b12027"
   },
   "outputs": [],
   "source": [
    "#!pip install thop\n",
    "#!pip install torchsummary\n",
    "#!pip install einops\n",
    "#!pip install -q kaggle\n",
    "#!pip install torch\n",
    "#!pip install numpy\n",
    "#!pip install opencv-python\n",
    "#!pip install matplotlib\n",
    "#!pip install natsort\n",
    "#!pip install torchvision"
   ]
  },
  {
   "cell_type": "code",
   "execution_count": 1,
   "metadata": {
    "id": "uJUnHoY3ag_1"
   },
   "outputs": [],
   "source": [
    "import numpy as np\n",
    "import os\n",
    "import sys\n",
    "import json\n",
    "import cv2\n",
    "import math\n",
    "import time\n",
    "from tqdm import tqdm\n",
    "import matplotlib\n",
    "import matplotlib.pyplot as plt\n",
    "from collections import OrderedDict\n",
    "from glob import glob\n",
    "from natsort import natsorted\n",
    "\n",
    "import torch\n",
    "from torch.utils.data import DataLoader\n",
    "from torch.utils.data import Dataset\n",
    "import torch.optim as optim\n",
    "import torch.nn as nn\n",
    "from torchvision import transforms\n",
    "import torch.nn.functional as F\n",
    "\n",
    "from thop import profile\n",
    "from thop import clever_format\n",
    "from torchsummary import summary\n",
    "\n",
    "from einops import rearrange, repeat\n",
    "from einops.layers.torch import Rearrange\n",
    "\n",
    "%matplotlib inline\n",
    "matplotlib.rcParams['figure.facecolor'] = '#ffffff'\n"
   ]
  },
  {
   "cell_type": "code",
   "execution_count": null,
   "metadata": {},
   "outputs": [
    {
     "name": "stdout",
     "output_type": "stream",
     "text": [
      "Current device: NVIDIA GeForce GTX 1080 Ti\n"
     ]
    }
   ],
   "source": [
    "result = torch.cuda.get_device_name(torch.cuda.current_device()) if torch.cuda.is_available() else \"cpu\"\n",
    "print(\"Current device: \" + result)\n",
    "torch.cuda.empty_cache()\n"
   ]
  },
  {
   "cell_type": "markdown",
   "metadata": {
    "id": "QDCdGBRHhNwR"
   },
   "source": [
    "# Download Data"
   ]
  },
  {
   "cell_type": "code",
   "execution_count": null,
   "metadata": {},
   "outputs": [],
   "source": [
    "from kaggle.api.kaggle_api_extended import KaggleApi\n",
    "api = KaggleApi()\n",
    "api.authenticate()"
   ]
  },
  {
   "cell_type": "code",
   "execution_count": null,
   "metadata": {
    "colab": {
     "base_uri": "https://localhost:8080/",
     "height": 93
    },
    "id": "qPU6TuXf2fZq",
    "outputId": "3b04f8fe-b405-4da1-bf58-b6b692a6fc70"
   },
   "outputs": [],
   "source": [
    "# # upload your kaggle.json file here\n",
    "# from google.colab import files\n",
    "# files.upload()"
   ]
  },
  {
   "cell_type": "code",
   "execution_count": null,
   "metadata": {
    "colab": {
     "base_uri": "https://localhost:8080/"
    },
    "id": "c79lZNe72out",
    "outputId": "8e065bff-99e8-40d9-cb75-d369ec4ab302"
   },
   "outputs": [
    {
     "name": "stdout",
     "output_type": "stream",
     "text": [
      "ls: cannot access kaggle.json: No such file or directory\n",
      "cp: cannot stat ‘kaggle.json’: No such file or directory\n",
      "chmod: cannot access ‘/root/.kaggle/kaggle.json’: Permission denied\n",
      "/home/STuser19\n"
     ]
    }
   ],
   "source": [
    "!ls -lha kaggle.json\n",
    "!mkdir -p ~/.kaggle\n",
    "!cp kaggle.json ~/.kaggle/\n",
    "!chmod 600 /root/.kaggle/kaggle.json\n",
    "!pwd"
   ]
  },
  {
   "cell_type": "code",
   "execution_count": null,
   "metadata": {
    "colab": {
     "base_uri": "https://localhost:8080/"
    },
    "id": "t1FXXIcJ3MT2",
    "outputId": "8f89df80-92e4-40c6-d144-c2cb39006ba9"
   },
   "outputs": [
    {
     "name": "stdout",
     "output_type": "stream",
     "text": [
      "ref                                                        title                                               size  lastUpdated          downloadCount  voteCount  usabilityRating  \n",
      "---------------------------------------------------------  -------------------------------------------------  -----  -------------------  -------------  ---------  ---------------  \n",
      "muhammadehsan000/2024-electric-car-data-washington-state   Electric Vehicle Data (1997 - 2024)                  6MB  2024-08-04 10:33:24           1078         28  1.0              \n",
      "myrios/cost-of-living-index-by-country-by-number-2024      Cost of Living Index by Country                      3KB  2024-07-19 06:25:42           2955         43  1.0              \n",
      "muhammadehsan000/olympic-historical-dataset-1896-2020      Olympic Historical Dataset (1896 - 2022)            27MB  2024-08-06 16:46:08           1728         30  1.0              \n",
      "waqi786/heart-attack-dataset                               ❤️ Heart Attack Risk Factors Dataset                 9KB  2024-08-06 10:57:42           1299         30  1.0              \n",
      "waqi786/top-games-dataset                                  Top Games Dataset 🎮📊                                77KB  2024-08-02 11:27:16           1571         30  1.0              \n",
      "neharoychoudhury/credit-card-fraud-data                    Credit Card Fraud data                             839KB  2024-07-30 03:29:04            971         31  1.0              \n",
      "youssefismail20/olympic-games-1994-2024                    Olympic Games (1994-2024) 🏅🌍                        16KB  2024-08-08 12:56:36           1256         31  1.0              \n",
      "waqi786/cats-dataset                                       🐾 Cats Dataset                                       6KB  2024-07-31 06:12:49           2381         51  1.0              \n",
      "ahmedmohamedibrahim1/coffee-shop-sales-dataset             Coffee Shop Sales Dataset                           17MB  2024-08-05 10:43:15           1462         25  0.8235294        \n",
      "waqi786/world-languages-dataset                            🌍📚 World Languages Dataset 🌍📚                        6KB  2024-07-30 11:42:02            594         21  1.0              \n",
      "datazng/shopping-mall-customer-data-segmentation-analysis  Shopping Mall Customer Data Segmentation Analysis    6MB  2024-08-04 20:36:31           1329         41  0.88235295       \n",
      "patricklford/global-ev-sales-2010-2024                     Global EV Sales: 2010-2024                          83KB  2024-07-19 13:40:22           3083         42  1.0              \n",
      "abhayayare/employee-data-simulation-it-industry            Employee Data Simulation: IT Industry                4KB  2024-07-21 15:26:17           2451         40  1.0              \n",
      "ihelon/coffee-sales                                        Coffee Sales                                        14KB  2024-08-09 09:00:13          10558        162  1.0              \n",
      "anthonytherrien/depression-dataset                         Depression Dataset                                   9MB  2024-07-19 20:42:08           1662         34  1.0              \n",
      "muhammadehsan000/credit-card-transaction-records-dataset   Credit Card Transaction Records Dataset            145MB  2024-08-01 13:34:23            731         26  1.0              \n",
      "mbsoroush/mobile-price-range                               Mobile Price Range                                  71KB  2024-07-29 08:05:56           1308         29  1.0              \n",
      "rabieelkharoua/students-performance-dataset                📚 Students Performance Dataset 📚                    66KB  2024-06-12 23:09:20          28844        564  1.0              \n",
      "waqi786/mobile-sales-dataset                               Mobile Sales Dataset 📱                              58KB  2024-07-26 11:03:16           2231         37  1.0              \n",
      "jacopoferretti/superstore-dataset                          Superstore Dataset                                 550KB  2024-08-01 02:06:14            488         23  0.9411765        \n"
     ]
    }
   ],
   "source": [
    "!kaggle datasets list"
   ]
  },
  {
   "cell_type": "code",
   "execution_count": null,
   "metadata": {
    "colab": {
     "base_uri": "https://localhost:8080/"
    },
    "id": "tJIQV3Na2Cgc",
    "outputId": "9a8aab04-1d8b-4e74-b1f6-2c1a538350ce"
   },
   "outputs": [],
   "source": [
    "# !kaggle competitions download -c adarlab-ai-training"
   ]
  },
  {
   "cell_type": "code",
   "execution_count": null,
   "metadata": {
    "colab": {
     "base_uri": "https://localhost:8080/"
    },
    "id": "x4sCPVAkZjYp",
    "outputId": "62a1a022-ed50-4212-a3ae-cf4e9e8e1a77"
   },
   "outputs": [],
   "source": [
    "# !unzip adarlab-ai-training.zip\n",
    "# !rm ./adarlab-ai-training.zip"
   ]
  },
  {
   "cell_type": "markdown",
   "metadata": {
    "id": "1gBEhrxWhRSR"
   },
   "source": [
    "# Checking Download"
   ]
  },
  {
   "cell_type": "code",
   "execution_count": null,
   "metadata": {
    "id": "YRR5rwFsfwl4"
   },
   "outputs": [
    {
     "name": "stdout",
     "output_type": "stream",
     "text": [
      "/home/STuser19\n",
      "130240\n"
     ]
    }
   ],
   "source": [
    "!pwd\n",
    "img_data_dir = './FreiHAND_pub_v2/training/rgb'\n",
    "images = natsorted(glob(os.path.join(img_data_dir, '*.jpg')))\n",
    "print(len(images))"
   ]
  },
  {
   "cell_type": "code",
   "execution_count": null,
   "metadata": {
    "id": "3462RLc7cxvd"
   },
   "outputs": [],
   "source": [
    "fn_K_matrix = os.path.join('./FreiHAND_pub_v2', \"training_K.json\")\n",
    "with open(fn_K_matrix, \"r\") as f:\n",
    "  K_matrix = np.array(json.load(f))\n",
    "\n",
    "fn_anno = os.path.join('./FreiHAND_pub_v2', \"training_xyz.json\")\n",
    "with open(fn_anno, \"r\") as f:\n",
    "  anno = np.array(json.load(f))"
   ]
  },
  {
   "cell_type": "code",
   "execution_count": null,
   "metadata": {
    "id": "DAefovLPdXg5"
   },
   "outputs": [
    {
     "name": "stdout",
     "output_type": "stream",
     "text": [
      "(32560, 3, 3)\n",
      "(32560, 21, 3)\n"
     ]
    }
   ],
   "source": [
    "print(K_matrix.shape) # projection matrix of the camera from 3D to 2D\n",
    "print(anno.shape)   # xyz coordinate of the hand landmarks in 3D space"
   ]
  },
  {
   "cell_type": "markdown",
   "metadata": {
    "id": "9P5TGP47hDPR"
   },
   "source": [
    "# Dataloader"
   ]
  },
  {
   "cell_type": "code",
   "execution_count": null,
   "metadata": {
    "id": "9BDTfi-5fp5q"
   },
   "outputs": [],
   "source": [
    "config = {\n",
    "  \"data_dir\": './FreiHAND_pub_v2',\n",
    "  \"data_num\": 32560,\n",
    "  \"device\": torch.device(\"cuda\" if torch.cuda.is_available() else \"cpu\"),\n",
    "  # you can set your own training configurations\n",
    "  \"batch_size\": 30,\n",
    "  \"learning_rate\": 0.0005,\n",
    "  \"n_epochs\": 150,\n",
    "  \"rot_num\": 7,\n",
    "}"
   ]
  },
  {
   "cell_type": "code",
   "execution_count": null,
   "metadata": {
    "id": "sZh7fnHYK1bi"
   },
   "outputs": [],
   "source": [
    "def projectPoints(xyz, K):\n",
    "  \"\"\"\n",
    "  Projects 3D coordinates into 2D image space.\n",
    "  \"\"\"\n",
    "  xyz = np.array(xyz)\n",
    "  K = np.array(K)\n",
    "  uv = np.matmul(K, xyz.T).T\n",
    "  return uv[:, :2] / uv[:, -1:]"
   ]
  },
  {
   "cell_type": "code",
   "execution_count": null,
   "metadata": {},
   "outputs": [],
   "source": [
    "import torch\n",
    "import torchvision.transforms.functional as tf\n",
    "from torchvision import transforms\n",
    "import random\n",
    "import math\n",
    "\n",
    "class RandomRotationWithCoords:\n",
    "    def __init__(self, degrees):\n",
    "        self.degrees = degrees\n",
    "\n",
    "    def __call__(self, image, coords):\n",
    "        angle = random.uniform(self.degrees[0], self.degrees[1])\n",
    "        w, h = image.shape[2], image.shape[1] #224, 224\n",
    "       # print(\"angle: \", angle)\n",
    "        # 旋轉圖像\n",
    "        image = tf.rotate(image, angle)\n",
    "\n",
    "        # 旋轉座標\n",
    "        angle_rad = -(math.radians(angle))\n",
    "        center_x, center_y = w / 2, h / 2\n",
    "\n",
    "        new_coords = []\n",
    "        for x, y in coords:\n",
    "            new_x = center_x + (x - center_x) * math.cos(angle_rad) - (y - center_y) * math.sin(angle_rad)\n",
    "            new_y = center_y + (x - center_x) * math.sin(angle_rad) + (y - center_y) * math.cos(angle_rad)\n",
    "            new_coords.append([new_x, new_y])\n",
    "\n",
    "        new_coords = torch.tensor(new_coords, dtype=torch.float)\n",
    "        return image, new_coords\n",
    "\n",
    "class RandomZoomWithCoords:\n",
    "    def __init__(self, scale_range):\n",
    "        self.scale_range = scale_range\n",
    "\n",
    "    def __call__(self, image, coords):\n",
    "        scale = random.uniform(self.scale_range[0], self.scale_range[1])\n",
    "        w, h = image.shape[2], image.shape[1]\n",
    "\n",
    "        # 放大圖像\n",
    "        zoomed_image = tf.resize(image, [int(h * scale), int(w * scale)])\n",
    "\n",
    "        pad_x, pad_y = 0, 0\n",
    "        if scale < 1.0:\n",
    "            # 將縮小後的圖像填充到原始尺寸\n",
    "            pad_h = h - zoomed_image.shape[1]\n",
    "            pad_w = w - zoomed_image.shape[2]\n",
    "            pad_x = pad_w // 2\n",
    "            pad_y = pad_h // 2\n",
    "            padding = [pad_x, pad_y, pad_w - pad_x, pad_h - pad_y]\n",
    "            zoomed_image = tf.pad(zoomed_image, padding)\n",
    "\n",
    "        # 隨機裁切圖像到原始尺寸\n",
    "        i, j, h, w = transforms.RandomCrop.get_params(zoomed_image, output_size=(h, w))\n",
    "        cropped_image = tf.crop(zoomed_image, i, j, h, w)\n",
    "\n",
    "        # 調整座標\n",
    "        new_coords = []\n",
    "        for x, y in coords:\n",
    "            new_x = x * scale + pad_x - j\n",
    "            new_y = y * scale + pad_y - i\n",
    "            new_coords.append([new_x, new_y])\n",
    "\n",
    "        new_coords = torch.tensor(new_coords, dtype=torch.float)\n",
    "        return cropped_image, new_coords\n",
    "    \n",
    "class RandomHorizontalFlipWithCoords:\n",
    "    def __init__(self, p=0.5):\n",
    "        self.p = p\n",
    "\n",
    "    def __call__(self, image, coords):\n",
    "        if random.random() < self.p:\n",
    "            # 水平翻轉圖像\n",
    "            flipped_image = tf.hflip(image)\n",
    "            \n",
    "            # 調整座標\n",
    "            w = image.shape[2]\n",
    "            new_coords = []\n",
    "            for x, y in coords:\n",
    "                new_x = w - x\n",
    "                new_coords.append([new_x, y])\n",
    "            \n",
    "            new_coords = torch.tensor(new_coords, dtype=torch.float)\n",
    "            return flipped_image, new_coords\n",
    "        else:\n",
    "            return image, coords\n",
    "    \n",
    "transform = transforms.Compose([\n",
    "    transforms.Lambda(lambda img_coord: RandomRotationWithCoords(degrees=(-180, 180))(*img_coord)),\n",
    "    # transforms.Lambda(lambda img_coord: RandomZoomWithCoords(scale_range=(0.8, 1.5))(*img_coord)),\n",
    "    transforms.Lambda(lambda img_coord: RandomHorizontalFlipWithCoords(p=0.5)(*img_coord)),\n",
    "])\n"
   ]
  },
  {
   "cell_type": "code",
   "execution_count": null,
   "metadata": {
    "id": "6RRZpsGTfejS"
   },
   "outputs": [],
   "source": [
    "class FreiHAND(Dataset):\n",
    "  def __init__(self, config, set_type=\"train\", transform=None):\n",
    "    self.device = config[\"device\"]\n",
    "    self.transform = transform\n",
    "    ###########################your code here#############################\n",
    "    # get the image path list -> self.image_names\n",
    "    self.image_names = images\n",
    "\n",
    "    ########################################################################\n",
    "    # read the training_K file to get the projection matrix -> self.K_matrix\n",
    "    self.K_matrix = K_matrix\n",
    "\n",
    "    ########################################################################\n",
    "    # read the training_xyz 3D coordinate -> self.anno\n",
    "    self.anno = anno\n",
    "\n",
    "    ########################################################################\n",
    "    if set_type == \"train\":\n",
    "        n_start = 0\n",
    "        n_end = 30000\n",
    "    elif set_type == \"val\":\n",
    "        n_start = 30000\n",
    "        n_end = config['data_num']\n",
    "\n",
    "    self.image_names = self.image_names[n_start:n_end]\n",
    "    self.K_matrix = self.K_matrix[n_start:n_end]\n",
    "    self.anno = self.anno[n_start:n_end]\n",
    "    ########################################################################\n",
    "\n",
    "  def __len__(self):\n",
    "    return len(self.anno)\n",
    "\n",
    "  def __getitem__(self, idx):\n",
    "    ########################################################################\n",
    "    # get the input image step by step\n",
    "    # 1. read the image using cv2\n",
    "    # 2. transpose the dimension from [h, w, 3] to [3, h, w]\n",
    "    # 3. from numpy array to tensor\n",
    "    # 4. normalize the value from [0, 255] to [0, 1]\n",
    "    image_name = self.image_names[idx]\n",
    "    image = cv2.imread(image_name, cv2.IMREAD_COLOR)\n",
    "    image = np.transpose(image, (2, 0, 1))  # transpose the dimension from [h, w, 3] to [3, h, w]\n",
    "    image = torch.from_numpy(image).float() # from numpy array to tensor\n",
    "    # image = image / 255 # normalize the value from [0, 255] to [0, 1]\n",
    "\n",
    "\n",
    "    ########################################################################\n",
    "    # get the ground true label of the image\n",
    "    # 1. project the 3D coordinate (xyz) to 2D image coordinate\n",
    "    # 2. normalize the coordinate value from [0, 224] to [0, 1]\n",
    "    # 3. from numpy array to tensor\n",
    "\n",
    "    keypoints = projectPoints(self.anno[idx], self.K_matrix[idx])\n",
    "    # keypoints = keypoints / 224\n",
    "    keypoints = torch.from_numpy(keypoints).float()\n",
    "    ########################################################################\n",
    "    \n",
    "    image_rot_arr = []\n",
    "    keypoints_rot_arr = []\n",
    "    image_rot_arr.append(image)\n",
    "    keypoints_rot_arr.append(keypoints)\n",
    "    length = config[\"rot_num\"] - 1\n",
    "    if self.transform:\n",
    "        for i in range(length):\n",
    "            image_rot, keypoints_rot = self.transform((image, keypoints))\n",
    "            image_rot_arr.append(image_rot)\n",
    "            keypoints_rot_arr.append(keypoints_rot)\n",
    "        # image_rot_1, keypoints_rot_1 = self.transform((image, keypoints))\n",
    "        # image_rot_2, keypoints_rot_2 = self.transform((image, keypoints))\n",
    "    else:\n",
    "        for i in range(length):\n",
    "            image_rot_arr.append(image)\n",
    "            keypoints_rot_arr.append(keypoints)\n",
    "        # image_rot_1 = image\n",
    "        # image_rot_2 = image\n",
    "        # keypoints_rot_1 = keypoints\n",
    "        # keypoints_rot_2 = keypoints\n",
    "    \n",
    "    image = image / 255 # normalize the value from [0, 255] to [0, 1]\n",
    "    keypoints = keypoints / 224\n",
    "    \n",
    "    for i in range(length + 1):\n",
    "        image_rot_arr[i] = image_rot_arr[i] / 255\n",
    "        keypoints_rot_arr[i] = keypoints_rot_arr[i] / 224\n",
    "    # image_rot_1 = image_rot_1 / 255\n",
    "    # keypoints_rot_1 = keypoints_rot_1 / 224\n",
    "    # image_rot_2 = image_rot_2 / 255\n",
    "    # keypoints_rot_2 = keypoints_rot_2 / 224\n",
    "    \n",
    "    return {\n",
    "        'image_name': image_name,\n",
    "        'image': image_rot_arr,\n",
    "        'keypoints': keypoints_rot_arr\n",
    "    }"
   ]
  },
  {
   "cell_type": "code",
   "execution_count": null,
   "metadata": {
    "id": "ncyC-Hrc8wx1"
   },
   "outputs": [
    {
     "name": "stdout",
     "output_type": "stream",
     "text": [
      "Total dataset length:  32560\n",
      "Train dataset length:  30000\n",
      "Validation dataset length:  2560\n"
     ]
    }
   ],
   "source": [
    "train_ds = FreiHAND(config, set_type='train', transform=transform)\n",
    "val_ds = FreiHAND(config, set_type='val')\n",
    "\n",
    "train_dl = DataLoader(train_ds, config[\"batch_size\"], shuffle=True, drop_last=True, num_workers=4)\n",
    "val_dl = DataLoader(val_ds, config[\"batch_size\"], shuffle=True, drop_last=True, num_workers=4)\n",
    "\n",
    "print(\"Total dataset length: \", config['data_num'])\n",
    "print(\"Train dataset length: \", len(train_ds))\n",
    "print(\"Validation dataset length: \", len(val_ds))"
   ]
  },
  {
   "cell_type": "markdown",
   "metadata": {
    "id": "nKHgOCW7hAYS"
   },
   "source": [
    "# Show hand utils"
   ]
  },
  {
   "cell_type": "code",
   "execution_count": null,
   "metadata": {
    "id": "BTAsC4IBeFzJ"
   },
   "outputs": [],
   "source": [
    "def draw_hand(image, coords_hw, vis=None, color_fixed=None, linewidth=1, order='uv', img_order='rgb', draw_kp=True, kp_style=None):\n",
    "  \"\"\" Inpaints a hand stick figure into a matplotlib figure.\n",
    "  image:    original image input\n",
    "  coords_hw:  predicted keypoint (non normalized) -> [0, 224)\n",
    "  \"\"\"\n",
    "  if kp_style is None:\n",
    "    # kp_style[0] for circle radius, kp_style[1] for circle point thickness\n",
    "    kp_style = (1, 2)\n",
    "\n",
    "  # if image have four dimension like [1. 224. 224. 3] then squeeze to [3. 224. 3]\n",
    "  image = np.squeeze(image)\n",
    "\n",
    "  if len(image.shape) == 2:\n",
    "    image = np.expand_dims(image, 2)\n",
    "  s = image.shape\n",
    "  assert len(s) == 3, \"This only works for single images.\"\n",
    "\n",
    "  convert_to_uint8 = False\n",
    "\n",
    "  if s[2] == 1:\n",
    "    # grayscale case\n",
    "    image = (image - np.min(image)) / (np.max(image) - np.min(image) + 1e-4)\n",
    "    image = np.tile(image, [1, 1, 3])\n",
    "    pass\n",
    "\n",
    "  elif s[2] == 3:\n",
    "    # RGB case\n",
    "    if image.dtype == np.uint8:\n",
    "        convert_to_uint8 = True\n",
    "        image = image.astype('float64') / 255.0\n",
    "    elif image.dtype == np.float32:\n",
    "        # convert to gray image\n",
    "        image = np.mean(image, axis=2)\n",
    "        image = (image - np.min(image)) / (np.max(image) - np.min(image) + 1e-4)\n",
    "        image = np.expand_dims(image, 2)\n",
    "        image = np.tile(image, [1, 1, 3])\n",
    "  else:\n",
    "    assert 0, \"Unknown image dimensions.\"\n",
    "\n",
    "  if order == 'uv':\n",
    "    # predict (x, y) -> flip to (y, x)\n",
    "    coords_hw = coords_hw[:, ::-1]\n",
    "\n",
    "  colors = np.array(\n",
    "    [[0.4, 0.4, 0.4],\n",
    "    [0.4, 0.0, 0.0],\n",
    "    [0.6, 0.0, 0.0],\n",
    "    [0.8, 0.0, 0.0],\n",
    "    [1.0, 0.0, 0.0],\n",
    "    [0.4, 0.4, 0.0],\n",
    "    [0.6, 0.6, 0.0],\n",
    "    [0.8, 0.8, 0.0],\n",
    "    [1.0, 1.0, 0.0],\n",
    "    [0.0, 0.4, 0.2],\n",
    "    [0.0, 0.6, 0.3],\n",
    "    [0.0, 0.8, 0.4],\n",
    "    [0.0, 1.0, 0.5],\n",
    "    [0.0, 0.2, 0.4],\n",
    "    [0.0, 0.3, 0.6],\n",
    "    [0.0, 0.4, 0.8],\n",
    "    [0.0, 0.5, 1.0],\n",
    "    [0.4, 0.0, 0.4],\n",
    "    [0.6, 0.0, 0.6],\n",
    "    [0.7, 0.0, 0.8],\n",
    "    [1.0, 0.0, 1.0]]\n",
    "  )\n",
    "\n",
    "  if img_order == 'rgb':\n",
    "    # cv2 operation under BGR\n",
    "    colors = colors[:, ::-1]\n",
    "\n",
    "  # define connections and colors of the bones\n",
    "  bones = [\n",
    "    ((0, 1), colors[1, :]),\n",
    "    ((1, 2), colors[2, :]),\n",
    "    ((2, 3), colors[3, :]),\n",
    "    ((3, 4), colors[4, :]),\n",
    "\n",
    "    ((0, 5), colors[5, :]),\n",
    "    ((5, 6), colors[6, :]),\n",
    "    ((6, 7), colors[7, :]),\n",
    "    ((7, 8), colors[8, :]),\n",
    "\n",
    "    ((0, 9), colors[9, :]),\n",
    "    ((9, 10), colors[10, :]),\n",
    "    ((10, 11), colors[11, :]),\n",
    "    ((11, 12), colors[12, :]),\n",
    "\n",
    "    ((0, 13), colors[13, :]),\n",
    "    ((13, 14), colors[14, :]),\n",
    "    ((14, 15), colors[15, :]),\n",
    "    ((15, 16), colors[16, :]),\n",
    "\n",
    "    ((0, 17), colors[17, :]),\n",
    "    ((17, 18), colors[18, :]),\n",
    "    ((18, 19), colors[19, :]),\n",
    "    ((19, 20), colors[20, :])\n",
    "  ]\n",
    "\n",
    "  color_map = {\n",
    "    'k': np.array([0.0, 0.0, 0.0]),\n",
    "    'w': np.array([1.0, 1.0, 1.0]),\n",
    "    'b': np.array([0.0, 0.0, 1.0]),\n",
    "    'g': np.array([0.0, 1.0, 0.0]),\n",
    "    'r': np.array([1.0, 0.0, 0.0]),\n",
    "    'm': np.array([1.0, 1.0, 0.0]),\n",
    "    'c': np.array([0.0, 1.0, 1.0])\n",
    "  }\n",
    "\n",
    "  if vis is None:\n",
    "    vis = np.ones_like(coords_hw[:, 0]) == 1.0\n",
    "\n",
    "  for connection, color in bones:\n",
    "    if (vis[connection[0]] == False) or (vis[connection[1]] == False):\n",
    "      continue\n",
    "\n",
    "    coord1 = coords_hw[connection[0], :].astype(np.int32)   # [connection[0], (y, x)]\n",
    "    coord2 = coords_hw[connection[1], :].astype(np.int32)\n",
    "\n",
    "    if (coord1[0] < 1) or (coord1[0] >= s[0]) or (coord1[1] < 1) or (coord1[1] >= s[1]):\n",
    "      continue\n",
    "    if (coord2[0] < 1) or (coord2[0] >= s[0]) or (coord2[1] < 1) or (coord2[1] >= s[1]):\n",
    "      continue\n",
    "\n",
    "    if color_fixed is None:\n",
    "      # image, start point, end point, color, thickness -> where start point and end point are (x, y)\n",
    "      cv2.line(image, (coord1[1], coord1[0]), (coord2[1], coord2[0]), color, thickness=linewidth)\n",
    "    else:\n",
    "      # draw the connections with white line\n",
    "      c = color_map.get(color_fixed, np.array([1.0, 1.0, 1.0]))\n",
    "      cv2.line(image, (coord1[1], coord1[0]), (coord2[1], coord2[0]), c, thickness=linewidth)\n",
    "\n",
    "  # draw the key points\n",
    "  if draw_kp:\n",
    "    coords_hw = coords_hw.astype(np.int32)\n",
    "    for i in range(21):\n",
    "      if vis[i]:\n",
    "        # cv2.circle(img, center, radius, color, thickness) -> center is of the (x, y) format\n",
    "        image = cv2.circle(image, (coords_hw[i, 1], coords_hw[i, 0]), radius=kp_style[0], color=colors[i, :], thickness=kp_style[1])\n",
    "\n",
    "  if convert_to_uint8:\n",
    "    image = (image * 255).astype('uint8')\n",
    "\n",
    "  return image"
   ]
  },
  {
   "cell_type": "code",
   "execution_count": null,
   "metadata": {},
   "outputs": [
    {
     "data": {
      "image/png": "[encoded data removed]",
      "text/plain": [
       "<Figure size 1500x1000 with 28 Axes>"
      ]
     },
     "metadata": {},
     "output_type": "display_data"
    }
   ],
   "source": [
    "batch_iter = iter(train_dl)\n",
    "batch = next(batch_iter)\n",
    "\n",
    "imgs = batch['image'] #return[img1, img2, img3]\n",
    "kp = batch['keypoints'] #return[keypoint1, keypoint2, keypoint3]\n",
    "# print(batch['image'])\n",
    "pic_num = 4\n",
    "fig, axes = plt.subplots(len(imgs), pic_num, figsize=(15, 10))\n",
    "for i in range(len(imgs)):\n",
    "    for j in range(pic_num):\n",
    "        # 將圖像和關鍵點轉換為 NumPy 格式\n",
    "        img_np = imgs[i][j].permute(1, 2, 0).numpy()\n",
    "        kp_np = kp[i][j].numpy() * 224\n",
    "\n",
    "        # 使用 draw_hand 函數繪製關鍵點\n",
    "        img_with_hand = draw_hand(img_np, kp_np)\n",
    "\n",
    "        # 顯示結果\n",
    "        axes[i, j].imshow(img_with_hand)\n",
    "        # axes[i, j].axis('off')\n",
    "\n",
    "plt.show()\n"
   ]
  },
  {
   "cell_type": "markdown",
   "metadata": {
    "id": "Eb_pWxc2xmOM",
    "jp-MarkdownHeadingCollapsed": true
   },
   "source": [
    "# Model\n",
    "\n",
    "+ Model Specifications:\n",
    "  + Input: **`[B, 3, 224, 224]`**\n",
    "  + Output: **`[B, 21, 2]`** --> 21 for the num of the landmarks, 2 for the coordinates in (x, y) format\n",
    "  + Layer: You can build up your own model architecture with no limitations.\n",
    "  + Cost: The computational cost (FLOPs) may not over **`20 GFLOPs`**"
   ]
  },
  {
   "cell_type": "code",
   "execution_count": null,
   "metadata": {
    "id": "w9mqC8nZW7Tg"
   },
   "outputs": [],
   "source": [
    "from torchvision import models\n",
    "\n",
    "class HandPoseNet(nn.Module):\n",
    "    def __init__(self):\n",
    "        super(HandPoseNet, self).__init__()\n",
    "        self.mobileNet1 = models.mobilenet_v3_small(pretrained=True)\n",
    "        # self.mobileNet1.features[14].conv[1][0].stride = (1, 1)\n",
    "        # self.mobileNet1.classifier = torch.nn.Identity()\n",
    "        \n",
    "        self.dw1 = nn.Sequential(\n",
    "            nn.Conv2d(576, 64, kernel_size=1, stride=1, padding=0),\n",
    "            nn.ReLU6(),\n",
    "            nn.Conv2d(64, 64, kernel_size=3, stride=1, padding=1, groups=64),\n",
    "            nn.ReLU6(),\n",
    "            nn.Conv2d(64, 128, kernel_size=1, stride=1, padding=0),\n",
    "        )\n",
    "        self.conv_1x1 = nn.Conv2d(576, 128, kernel_size=1, stride=1, padding=0)\n",
    "        self.leakyRelu = nn.LeakyReLU()\n",
    "        self.dw2 = nn.Sequential(\n",
    "            nn.Conv2d(128, 64, kernel_size=1, stride=1, padding=0),\n",
    "            nn.ReLU6(),\n",
    "            nn.Conv2d(64, 64, kernel_size=3, stride=1, padding=1, groups=64),\n",
    "            nn.ReLU6(),\n",
    "            nn.Conv2d(64, 128, kernel_size=1, stride=1, padding=0),\n",
    "            nn.ReLU6(),\n",
    "        )\n",
    "        # input: 7x7, output: 14x14 --> kernel_size=4, stride=2, padding=1, 7 = (14 - 4 + 2*1) / 2 + 1\n",
    "        self.transposed_conv1 = nn.Sequential(\n",
    "            nn.ConvTranspose2d(128, 128, kernel_size=4, stride=2, padding=1),\n",
    "            nn.ReLU6(),\n",
    "        )\n",
    "        self.transposed_conv2 = nn.Sequential(\n",
    "            nn.ConvTranspose2d(128, 3*21, kernel_size=4, stride=2, padding=1),\n",
    "        )\n",
    "        self.dw3 = nn.Sequential(\n",
    "            nn.Conv2d(128+3*21, 128, kernel_size=1, stride=1, padding=0),\n",
    "            nn.Conv2d(128, 128, kernel_size=3, stride=1, padding=1, groups=128),\n",
    "            nn.ReLU6(),\n",
    "            nn.Conv2d(128, 3*21, kernel_size=1, stride=1, padding=0),\n",
    "        )\n",
    "        self.fc1 = nn.Linear(3*21*14*14, 2*21)\n",
    "        # self.fc1_2 = nn.Linear(256*7*7, 2*21)\n",
    "\n",
    "    def forward(self, x):\n",
    "        # x = self.mobileNet1(x) \n",
    "        x = self.mobileNet1.features(x) # [B, 576, 7, 7]\n",
    "        y = self.dw1(x) # [B, 256, 7, 7]\n",
    "        z = self.conv_1x1(x) # [B, 256, 7, 7]\n",
    "        x = self.leakyRelu(y + z) # [B, 256, 7, 7]\n",
    "        x = self.dw2(x) # [B, 256, 7, 7]\n",
    "        y = self.transposed_conv1(x) # [B, 128, 14, 14]\n",
    "        z = self.transposed_conv2(x) # [B, 3*21, 14, 14]\n",
    "        z1, z2 = torch.split(z, [2*21, 21], dim=1)\n",
    "        x = self.dw3(torch.cat([z1, y, z2], dim=1)) # [B, 3*21, 14, 14]\n",
    "        x = torch.flatten(x, start_dim=1) # [B, 3*21*14*14]\n",
    "        x = self.fc1(x) # [B, 2*21]\n",
    "        x = x.view(-1, 21, 2)  # Reshape to [B, 21, 2]\n",
    "        return x\n",
    "\n",
    "Net = HandPoseNet()"
   ]
  },
  {
   "cell_type": "code",
   "execution_count": null,
   "metadata": {
    "id": "P0jIi8qfMrlG"
   },
   "outputs": [],
   "source": []
  },
  {
   "cell_type": "code",
   "execution_count": null,
   "metadata": {
    "id": "pQrQ5qjgMrra"
   },
   "outputs": [],
   "source": []
  },
  {
   "cell_type": "code",
   "execution_count": null,
   "metadata": {
    "id": "zZiTqxCjW7ai"
   },
   "outputs": [],
   "source": []
  },
  {
   "cell_type": "markdown",
   "metadata": {
    "id": "T5cExNrO9Ad6",
    "jp-MarkdownHeadingCollapsed": true
   },
   "source": [
    "# Testing Model Computational Cost"
   ]
  },
  {
   "cell_type": "code",
   "execution_count": null,
   "metadata": {
    "id": "yTf0tYV2eFSh"
   },
   "outputs": [
    {
     "name": "stdout",
     "output_type": "stream",
     "text": [
      "----------------------------------------------------------------\n",
      "        Layer (type)               Output Shape         Param #\n",
      "================================================================\n",
      "            Conv2d-1         [-1, 16, 112, 112]             432\n",
      "       BatchNorm2d-2         [-1, 16, 112, 112]              32\n",
      "         Hardswish-3         [-1, 16, 112, 112]               0\n",
      "            Conv2d-4           [-1, 16, 56, 56]             144\n",
      "       BatchNorm2d-5           [-1, 16, 56, 56]              32\n",
      "              ReLU-6           [-1, 16, 56, 56]               0\n",
      " AdaptiveAvgPool2d-7             [-1, 16, 1, 1]               0\n",
      "            Conv2d-8              [-1, 8, 1, 1]             136\n",
      "              ReLU-9              [-1, 8, 1, 1]               0\n",
      "           Conv2d-10             [-1, 16, 1, 1]             144\n",
      "      Hardsigmoid-11             [-1, 16, 1, 1]               0\n",
      "SqueezeExcitation-12           [-1, 16, 56, 56]               0\n",
      "           Conv2d-13           [-1, 16, 56, 56]             256\n",
      "      BatchNorm2d-14           [-1, 16, 56, 56]              32\n",
      " InvertedResidual-15           [-1, 16, 56, 56]               0\n",
      "           Conv2d-16           [-1, 72, 56, 56]           1,152\n",
      "      BatchNorm2d-17           [-1, 72, 56, 56]             144\n",
      "             ReLU-18           [-1, 72, 56, 56]               0\n",
      "           Conv2d-19           [-1, 72, 28, 28]             648\n",
      "      BatchNorm2d-20           [-1, 72, 28, 28]             144\n",
      "             ReLU-21           [-1, 72, 28, 28]               0\n",
      "           Conv2d-22           [-1, 24, 28, 28]           1,728\n",
      "      BatchNorm2d-23           [-1, 24, 28, 28]              48\n",
      " InvertedResidual-24           [-1, 24, 28, 28]               0\n",
      "           Conv2d-25           [-1, 88, 28, 28]           2,112\n",
      "      BatchNorm2d-26           [-1, 88, 28, 28]             176\n",
      "             ReLU-27           [-1, 88, 28, 28]               0\n",
      "           Conv2d-28           [-1, 88, 28, 28]             792\n",
      "      BatchNorm2d-29           [-1, 88, 28, 28]             176\n",
      "             ReLU-30           [-1, 88, 28, 28]               0\n",
      "           Conv2d-31           [-1, 24, 28, 28]           2,112\n",
      "      BatchNorm2d-32           [-1, 24, 28, 28]              48\n",
      " InvertedResidual-33           [-1, 24, 28, 28]               0\n",
      "           Conv2d-34           [-1, 96, 28, 28]           2,304\n",
      "      BatchNorm2d-35           [-1, 96, 28, 28]             192\n",
      "        Hardswish-36           [-1, 96, 28, 28]               0\n",
      "           Conv2d-37           [-1, 96, 14, 14]           2,400\n",
      "      BatchNorm2d-38           [-1, 96, 14, 14]             192\n",
      "        Hardswish-39           [-1, 96, 14, 14]               0\n",
      "AdaptiveAvgPool2d-40             [-1, 96, 1, 1]               0\n",
      "           Conv2d-41             [-1, 24, 1, 1]           2,328\n",
      "             ReLU-42             [-1, 24, 1, 1]               0\n",
      "           Conv2d-43             [-1, 96, 1, 1]           2,400\n",
      "      Hardsigmoid-44             [-1, 96, 1, 1]               0\n",
      "SqueezeExcitation-45           [-1, 96, 14, 14]               0\n",
      "           Conv2d-46           [-1, 40, 14, 14]           3,840\n",
      "      BatchNorm2d-47           [-1, 40, 14, 14]              80\n",
      " InvertedResidual-48           [-1, 40, 14, 14]               0\n",
      "           Conv2d-49          [-1, 240, 14, 14]           9,600\n",
      "      BatchNorm2d-50          [-1, 240, 14, 14]             480\n",
      "        Hardswish-51          [-1, 240, 14, 14]               0\n",
      "           Conv2d-52          [-1, 240, 14, 14]           6,000\n",
      "      BatchNorm2d-53          [-1, 240, 14, 14]             480\n",
      "        Hardswish-54          [-1, 240, 14, 14]               0\n",
      "AdaptiveAvgPool2d-55            [-1, 240, 1, 1]               0\n",
      "           Conv2d-56             [-1, 64, 1, 1]          15,424\n",
      "             ReLU-57             [-1, 64, 1, 1]               0\n",
      "           Conv2d-58            [-1, 240, 1, 1]          15,600\n",
      "      Hardsigmoid-59            [-1, 240, 1, 1]               0\n",
      "SqueezeExcitation-60          [-1, 240, 14, 14]               0\n",
      "           Conv2d-61           [-1, 40, 14, 14]           9,600\n",
      "      BatchNorm2d-62           [-1, 40, 14, 14]              80\n",
      " InvertedResidual-63           [-1, 40, 14, 14]               0\n",
      "           Conv2d-64          [-1, 240, 14, 14]           9,600\n",
      "      BatchNorm2d-65          [-1, 240, 14, 14]             480\n",
      "        Hardswish-66          [-1, 240, 14, 14]               0\n",
      "           Conv2d-67          [-1, 240, 14, 14]           6,000\n",
      "      BatchNorm2d-68          [-1, 240, 14, 14]             480\n",
      "        Hardswish-69          [-1, 240, 14, 14]               0\n",
      "AdaptiveAvgPool2d-70            [-1, 240, 1, 1]               0\n",
      "           Conv2d-71             [-1, 64, 1, 1]          15,424\n",
      "             ReLU-72             [-1, 64, 1, 1]               0\n",
      "           Conv2d-73            [-1, 240, 1, 1]          15,600\n",
      "      Hardsigmoid-74            [-1, 240, 1, 1]               0\n",
      "SqueezeExcitation-75          [-1, 240, 14, 14]               0\n",
      "           Conv2d-76           [-1, 40, 14, 14]           9,600\n",
      "      BatchNorm2d-77           [-1, 40, 14, 14]              80\n",
      " InvertedResidual-78           [-1, 40, 14, 14]               0\n",
      "           Conv2d-79          [-1, 120, 14, 14]           4,800\n",
      "      BatchNorm2d-80          [-1, 120, 14, 14]             240\n",
      "        Hardswish-81          [-1, 120, 14, 14]               0\n",
      "           Conv2d-82          [-1, 120, 14, 14]           3,000\n",
      "      BatchNorm2d-83          [-1, 120, 14, 14]             240\n",
      "        Hardswish-84          [-1, 120, 14, 14]               0\n",
      "AdaptiveAvgPool2d-85            [-1, 120, 1, 1]               0\n",
      "           Conv2d-86             [-1, 32, 1, 1]           3,872\n",
      "             ReLU-87             [-1, 32, 1, 1]               0\n",
      "           Conv2d-88            [-1, 120, 1, 1]           3,960\n",
      "      Hardsigmoid-89            [-1, 120, 1, 1]               0\n",
      "SqueezeExcitation-90          [-1, 120, 14, 14]               0\n",
      "           Conv2d-91           [-1, 48, 14, 14]           5,760\n",
      "      BatchNorm2d-92           [-1, 48, 14, 14]              96\n",
      " InvertedResidual-93           [-1, 48, 14, 14]               0\n",
      "           Conv2d-94          [-1, 144, 14, 14]           6,912\n",
      "      BatchNorm2d-95          [-1, 144, 14, 14]             288\n",
      "        Hardswish-96          [-1, 144, 14, 14]               0\n",
      "           Conv2d-97          [-1, 144, 14, 14]           3,600\n",
      "      BatchNorm2d-98          [-1, 144, 14, 14]             288\n",
      "        Hardswish-99          [-1, 144, 14, 14]               0\n",
      "AdaptiveAvgPool2d-100            [-1, 144, 1, 1]               0\n",
      "          Conv2d-101             [-1, 40, 1, 1]           5,800\n",
      "            ReLU-102             [-1, 40, 1, 1]               0\n",
      "          Conv2d-103            [-1, 144, 1, 1]           5,904\n",
      "     Hardsigmoid-104            [-1, 144, 1, 1]               0\n",
      "SqueezeExcitation-105          [-1, 144, 14, 14]               0\n",
      "          Conv2d-106           [-1, 48, 14, 14]           6,912\n",
      "     BatchNorm2d-107           [-1, 48, 14, 14]              96\n",
      "InvertedResidual-108           [-1, 48, 14, 14]               0\n",
      "          Conv2d-109          [-1, 288, 14, 14]          13,824\n",
      "     BatchNorm2d-110          [-1, 288, 14, 14]             576\n",
      "       Hardswish-111          [-1, 288, 14, 14]               0\n",
      "          Conv2d-112            [-1, 288, 7, 7]           7,200\n",
      "     BatchNorm2d-113            [-1, 288, 7, 7]             576\n",
      "       Hardswish-114            [-1, 288, 7, 7]               0\n",
      "AdaptiveAvgPool2d-115            [-1, 288, 1, 1]               0\n",
      "          Conv2d-116             [-1, 72, 1, 1]          20,808\n",
      "            ReLU-117             [-1, 72, 1, 1]               0\n",
      "          Conv2d-118            [-1, 288, 1, 1]          21,024\n",
      "     Hardsigmoid-119            [-1, 288, 1, 1]               0\n",
      "SqueezeExcitation-120            [-1, 288, 7, 7]               0\n",
      "          Conv2d-121             [-1, 96, 7, 7]          27,648\n",
      "     BatchNorm2d-122             [-1, 96, 7, 7]             192\n",
      "InvertedResidual-123             [-1, 96, 7, 7]               0\n",
      "          Conv2d-124            [-1, 576, 7, 7]          55,296\n",
      "     BatchNorm2d-125            [-1, 576, 7, 7]           1,152\n",
      "       Hardswish-126            [-1, 576, 7, 7]               0\n",
      "          Conv2d-127            [-1, 576, 7, 7]          14,400\n",
      "     BatchNorm2d-128            [-1, 576, 7, 7]           1,152\n",
      "       Hardswish-129            [-1, 576, 7, 7]               0\n",
      "AdaptiveAvgPool2d-130            [-1, 576, 1, 1]               0\n",
      "          Conv2d-131            [-1, 144, 1, 1]          83,088\n",
      "            ReLU-132            [-1, 144, 1, 1]               0\n",
      "          Conv2d-133            [-1, 576, 1, 1]          83,520\n",
      "     Hardsigmoid-134            [-1, 576, 1, 1]               0\n",
      "SqueezeExcitation-135            [-1, 576, 7, 7]               0\n",
      "          Conv2d-136             [-1, 96, 7, 7]          55,296\n",
      "     BatchNorm2d-137             [-1, 96, 7, 7]             192\n",
      "InvertedResidual-138             [-1, 96, 7, 7]               0\n",
      "          Conv2d-139            [-1, 576, 7, 7]          55,296\n",
      "     BatchNorm2d-140            [-1, 576, 7, 7]           1,152\n",
      "       Hardswish-141            [-1, 576, 7, 7]               0\n",
      "          Conv2d-142            [-1, 576, 7, 7]          14,400\n",
      "     BatchNorm2d-143            [-1, 576, 7, 7]           1,152\n",
      "       Hardswish-144            [-1, 576, 7, 7]               0\n",
      "AdaptiveAvgPool2d-145            [-1, 576, 1, 1]               0\n",
      "          Conv2d-146            [-1, 144, 1, 1]          83,088\n",
      "            ReLU-147            [-1, 144, 1, 1]               0\n",
      "          Conv2d-148            [-1, 576, 1, 1]          83,520\n",
      "     Hardsigmoid-149            [-1, 576, 1, 1]               0\n",
      "SqueezeExcitation-150            [-1, 576, 7, 7]               0\n",
      "          Conv2d-151             [-1, 96, 7, 7]          55,296\n",
      "     BatchNorm2d-152             [-1, 96, 7, 7]             192\n",
      "InvertedResidual-153             [-1, 96, 7, 7]               0\n",
      "          Conv2d-154            [-1, 576, 7, 7]          55,296\n",
      "     BatchNorm2d-155            [-1, 576, 7, 7]           1,152\n",
      "       Hardswish-156            [-1, 576, 7, 7]               0\n",
      "          Conv2d-157             [-1, 64, 7, 7]          36,928\n",
      "           ReLU6-158             [-1, 64, 7, 7]               0\n",
      "          Conv2d-159             [-1, 64, 7, 7]             640\n",
      "           ReLU6-160             [-1, 64, 7, 7]               0\n",
      "          Conv2d-161            [-1, 128, 7, 7]           8,320\n",
      "          Conv2d-162            [-1, 128, 7, 7]          73,856\n",
      "       LeakyReLU-163            [-1, 128, 7, 7]               0\n",
      "          Conv2d-164             [-1, 64, 7, 7]           8,256\n",
      "           ReLU6-165             [-1, 64, 7, 7]               0\n",
      "          Conv2d-166             [-1, 64, 7, 7]             640\n",
      "           ReLU6-167             [-1, 64, 7, 7]               0\n",
      "          Conv2d-168            [-1, 128, 7, 7]           8,320\n",
      "           ReLU6-169            [-1, 128, 7, 7]               0\n",
      " ConvTranspose2d-170          [-1, 128, 14, 14]         262,272\n",
      "           ReLU6-171          [-1, 128, 14, 14]               0\n",
      " ConvTranspose2d-172           [-1, 63, 14, 14]         129,087\n",
      "          Conv2d-173          [-1, 128, 14, 14]          24,576\n",
      "          Conv2d-174          [-1, 128, 14, 14]           1,280\n",
      "           ReLU6-175          [-1, 128, 14, 14]               0\n",
      "          Conv2d-176           [-1, 63, 14, 14]           8,127\n",
      "          Linear-177                   [-1, 42]         518,658\n",
      "================================================================\n",
      "Total params: 2,007,968\n",
      "Trainable params: 2,007,968\n",
      "Non-trainable params: 0\n",
      "----------------------------------------------------------------\n",
      "Input size (MB): 0.57\n",
      "Forward/backward pass size (MB): 36.15\n",
      "Params size (MB): 7.66\n",
      "Estimated Total Size (MB): 44.38\n",
      "----------------------------------------------------------------\n",
      "From input shape: torch.Size([1, 3, 224, 224]) to output shape: torch.Size([1, 21, 2])\n",
      "[INFO] Register count_convNd() for <class 'torch.nn.modules.conv.Conv2d'>.\n",
      "[INFO] Register count_normalization() for <class 'torch.nn.modules.batchnorm.BatchNorm2d'>.\n",
      "[INFO] Register zero_ops() for <class 'torch.nn.modules.activation.ReLU'>.\n",
      "[INFO] Register count_adap_avgpool() for <class 'torch.nn.modules.pooling.AdaptiveAvgPool2d'>.\n",
      "[INFO] Register zero_ops() for <class 'torch.nn.modules.container.Sequential'>.\n",
      "[INFO] Register count_linear() for <class 'torch.nn.modules.linear.Linear'>.\n",
      "[INFO] Register zero_ops() for <class 'torch.nn.modules.dropout.Dropout'>.\n",
      "[INFO] Register zero_ops() for <class 'torch.nn.modules.activation.ReLU6'>.\n",
      "[INFO] Register count_relu() for <class 'torch.nn.modules.activation.LeakyReLU'>.\n",
      "[INFO] Register count_convNd() for <class 'torch.nn.modules.conv.ConvTranspose2d'>.\n",
      "FLOPS: 0.302601376 G, Params: 2.007968 M.\n"
     ]
    }
   ],
   "source": [
    "# pseudo image\n",
    "image = torch.rand(1, 3, 224, 224).cuda()\n",
    "\n",
    "# define your model\n",
    "model = Net.to(config[\"device\"])\n",
    "\n",
    "out = model(image)\n",
    "\n",
    "# torchsummary report\n",
    "summary(model, input_size=(3, 224, 224))\n",
    "print(f'From input shape: {image.shape} to output shape: {out.shape}')\n",
    "\n",
    "# thop report\n",
    "macs, parm = profile(model, inputs=(image, ))\n",
    "print(f'FLOPS: {macs * 2 / 1e9} G, Params: {parm / 1e6} M.')"
   ]
  },
  {
   "cell_type": "markdown",
   "metadata": {
    "id": "BB7B2iQI8IQb"
   },
   "source": [
    "# Criterion"
   ]
  },
  {
   "cell_type": "code",
   "execution_count": null,
   "metadata": {
    "id": "m0KvUVwb8NjQ"
   },
   "outputs": [],
   "source": [
    "class CMSELoss(nn.Module):\n",
    "  \"\"\"\n",
    "  Coordinate MSE loss\n",
    "  input :\n",
    "    y_pred = b, 21, 2   (coordinate of 21 keypoints)\n",
    "    y_true = b, 21, 2   (keypoints, (y, x))\n",
    "  \"\"\"\n",
    "  def __init__(self):\n",
    "    super().__init__()\n",
    "    self.loss = nn.MSELoss()\n",
    "\n",
    "  def forward(self, y_pred, y_true):\n",
    "    y_true = torch.flip(y_true, [2]) # flip (y, x) to (x, y)\n",
    "    return self.loss(y_pred, y_true)"
   ]
  },
  {
   "cell_type": "code",
   "execution_count": null,
   "metadata": {
    "id": "AmZhlbbPhKJU"
   },
   "outputs": [],
   "source": [
    "criterion = CMSELoss()"
   ]
  },
  {
   "cell_type": "markdown",
   "metadata": {
    "id": "xGp8--mK9o8U"
   },
   "source": [
    "# Optimizer and Scheduler (optional)"
   ]
  },
  {
   "cell_type": "code",
   "execution_count": null,
   "metadata": {
    "id": "rHIG6WpB9pyL"
   },
   "outputs": [],
   "source": [
    "optimizer = torch.optim.Adam(model.parameters(), lr=config['learning_rate'])\n",
    "# optimizer = torch.optim.Adadelta(model.parameters(), lr=1)"
   ]
  },
  {
   "cell_type": "code",
   "execution_count": null,
   "metadata": {
    "id": "0HGT7xWcO59p"
   },
   "outputs": [
    {
     "name": "stdout",
     "output_type": "stream",
     "text": [
      "150000.0\n"
     ]
    }
   ],
   "source": [
    "# scheduler = torch.optim.lr_scheduler.OneCycleLR(optimizer, max_lr=0.002, steps_per_epoch=len(train_dl), epochs=config[\"n_epochs\"])\n",
    "# scheduler = torch.optim.lr_scheduler.OneCycleLR(optimizer, max_lr=0.001, steps_per_epoch=len(train_dl), epochs=config[\"n_epochs\"], div_factor=2, final_div_factor=5, pct_start=0.09)\n",
    "scheduler = torch.optim.lr_scheduler.CosineAnnealingLR(optimizer, T_max = config[\"rot_num\"] * (len(train_dl.dataset) / config[\"batch_size\"]) * config[\"n_epochs\"], eta_min = 0.00005)\n",
    "print((len(train_dl.dataset) / config[\"batch_size\"]) * config[\"n_epochs\"])"
   ]
  },
  {
   "cell_type": "markdown",
   "metadata": {
    "id": "tvispd49hh0p"
   },
   "source": [
    "# Training\n",
    "  + Record the **`loss / epoch`** learning curve\n",
    "  + If using learning rate scheduler, record the **`lr / epoch`** curve"
   ]
  },
  {
   "cell_type": "code",
   "execution_count": null,
   "metadata": {},
   "outputs": [],
   "source": [
    "# weight_path = '/home/va8800/ken_ai/model_weights.pth'\n",
    "# weight_path = '/home/STuser19/MID/model_weights.pth'\n",
    "\n",
    "# checkpoint = torch.load(weight_path)\n",
    "# model.load_state_dict(checkpoint, strict=True)"
   ]
  },
  {
   "cell_type": "code",
   "execution_count": null,
   "metadata": {
    "id": "CxgfsfnDeUft"
   },
   "outputs": [
    {
     "name": "stderr",
     "output_type": "stream",
     "text": [
      "  0%|          | 0/1000 [00:00<?, ?it/s]"
     ]
    },
    {
     "name": "stderr",
     "output_type": "stream",
     "text": [
      "100%|██████████| 1000/1000 [06:54<00:00,  2.41it/s]\n"
     ]
    },
    {
     "name": "stdout",
     "output_type": "stream",
     "text": [
      "Epoch  1: Learning Rate: 0.000500 Training Loss: 0.002876 Validation Loss:0.001973\n",
      "Validation loss decreased(inf-->0.001973). Saving model ..\n"
     ]
    },
    {
     "name": "stderr",
     "output_type": "stream",
     "text": [
      "100%|██████████| 1000/1000 [06:47<00:00,  2.46it/s]\n"
     ]
    },
    {
     "name": "stdout",
     "output_type": "stream",
     "text": [
      "Epoch  2: Learning Rate: 0.000500 Training Loss: 0.001493 Validation Loss:0.001425\n",
      "Validation loss decreased(0.001973-->0.001425). Saving model ..\n"
     ]
    },
    {
     "name": "stderr",
     "output_type": "stream",
     "text": [
      "100%|██████████| 1000/1000 [06:55<00:00,  2.40it/s]\n"
     ]
    },
    {
     "name": "stdout",
     "output_type": "stream",
     "text": [
      "Epoch  3: Learning Rate: 0.000500 Training Loss: 0.001167 Validation Loss:0.001123\n",
      "Validation loss decreased(0.001425-->0.001123). Saving model ..\n"
     ]
    },
    {
     "name": "stderr",
     "output_type": "stream",
     "text": [
      "100%|██████████| 1000/1000 [06:56<00:00,  2.40it/s]\n"
     ]
    },
    {
     "name": "stdout",
     "output_type": "stream",
     "text": [
      "Epoch  4: Learning Rate: 0.000499 Training Loss: 0.000990 Validation Loss:0.001209\n"
     ]
    },
    {
     "name": "stderr",
     "output_type": "stream",
     "text": [
      "100%|██████████| 1000/1000 [07:17<00:00,  2.28it/s]\n"
     ]
    },
    {
     "name": "stdout",
     "output_type": "stream",
     "text": [
      "Epoch  5: Learning Rate: 0.000499 Training Loss: 0.000878 Validation Loss:0.000952\n",
      "Validation loss decreased(0.001123-->0.000952). Saving model ..\n"
     ]
    },
    {
     "name": "stderr",
     "output_type": "stream",
     "text": [
      "100%|██████████| 1000/1000 [07:01<00:00,  2.37it/s]\n"
     ]
    },
    {
     "name": "stdout",
     "output_type": "stream",
     "text": [
      "Epoch  6: Learning Rate: 0.000498 Training Loss: 0.000784 Validation Loss:0.000889\n",
      "Validation loss decreased(0.000952-->0.000889). Saving model ..\n"
     ]
    },
    {
     "name": "stderr",
     "output_type": "stream",
     "text": [
      "100%|██████████| 1000/1000 [06:53<00:00,  2.42it/s]\n"
     ]
    },
    {
     "name": "stdout",
     "output_type": "stream",
     "text": [
      "Epoch  7: Learning Rate: 0.000498 Training Loss: 0.000708 Validation Loss:0.000830\n",
      "Validation loss decreased(0.000889-->0.000830). Saving model ..\n"
     ]
    },
    {
     "name": "stderr",
     "output_type": "stream",
     "text": [
      "100%|██████████| 1000/1000 [07:17<00:00,  2.29it/s]\n"
     ]
    },
    {
     "name": "stdout",
     "output_type": "stream",
     "text": [
      "Epoch  8: Learning Rate: 0.000497 Training Loss: 0.000655 Validation Loss:0.000769\n",
      "Validation loss decreased(0.000830-->0.000769). Saving model ..\n"
     ]
    },
    {
     "name": "stderr",
     "output_type": "stream",
     "text": [
      "100%|██████████| 1000/1000 [07:19<00:00,  2.28it/s]\n"
     ]
    },
    {
     "name": "stdout",
     "output_type": "stream",
     "text": [
      "Epoch  9: Learning Rate: 0.000496 Training Loss: 0.000615 Validation Loss:0.000827\n"
     ]
    },
    {
     "name": "stderr",
     "output_type": "stream",
     "text": [
      "100%|██████████| 1000/1000 [06:58<00:00,  2.39it/s]\n"
     ]
    },
    {
     "name": "stdout",
     "output_type": "stream",
     "text": [
      "Epoch 10: Learning Rate: 0.000495 Training Loss: 0.000568 Validation Loss:0.000786\n"
     ]
    },
    {
     "name": "stderr",
     "output_type": "stream",
     "text": [
      "100%|██████████| 1000/1000 [07:00<00:00,  2.38it/s]\n"
     ]
    },
    {
     "name": "stdout",
     "output_type": "stream",
     "text": [
      "Epoch 11: Learning Rate: 0.000494 Training Loss: 0.000536 Validation Loss:0.000777\n"
     ]
    },
    {
     "name": "stderr",
     "output_type": "stream",
     "text": [
      "100%|██████████| 1000/1000 [06:55<00:00,  2.41it/s]\n"
     ]
    },
    {
     "name": "stdout",
     "output_type": "stream",
     "text": [
      "Epoch 12: Learning Rate: 0.000493 Training Loss: 0.000509 Validation Loss:0.000756\n",
      "Validation loss decreased(0.000769-->0.000756). Saving model ..\n"
     ]
    },
    {
     "name": "stderr",
     "output_type": "stream",
     "text": [
      "100%|██████████| 1000/1000 [08:02<00:00,  2.07it/s]\n"
     ]
    },
    {
     "name": "stdout",
     "output_type": "stream",
     "text": [
      "Epoch 13: Learning Rate: 0.000492 Training Loss: 0.000479 Validation Loss:0.000670\n",
      "Validation loss decreased(0.000756-->0.000670). Saving model ..\n"
     ]
    },
    {
     "name": "stderr",
     "output_type": "stream",
     "text": [
      "100%|██████████| 1000/1000 [09:10<00:00,  1.82it/s]\n"
     ]
    },
    {
     "name": "stdout",
     "output_type": "stream",
     "text": [
      "Epoch 14: Learning Rate: 0.000490 Training Loss: 0.000461 Validation Loss:0.000675\n"
     ]
    },
    {
     "name": "stderr",
     "output_type": "stream",
     "text": [
      "100%|██████████| 1000/1000 [11:18<00:00,  1.47it/s]\n"
     ]
    },
    {
     "name": "stdout",
     "output_type": "stream",
     "text": [
      "Epoch 15: Learning Rate: 0.000489 Training Loss: 0.000431 Validation Loss:0.000618\n",
      "Validation loss decreased(0.000670-->0.000618). Saving model ..\n"
     ]
    },
    {
     "name": "stderr",
     "output_type": "stream",
     "text": [
      "100%|██████████| 1000/1000 [11:18<00:00,  1.47it/s]\n"
     ]
    },
    {
     "name": "stdout",
     "output_type": "stream",
     "text": [
      "Epoch 16: Learning Rate: 0.000487 Training Loss: 0.000411 Validation Loss:0.000609\n",
      "Validation loss decreased(0.000618-->0.000609). Saving model ..\n"
     ]
    },
    {
     "name": "stderr",
     "output_type": "stream",
     "text": [
      "100%|██████████| 1000/1000 [11:18<00:00,  1.47it/s]\n"
     ]
    },
    {
     "name": "stdout",
     "output_type": "stream",
     "text": [
      "Epoch 17: Learning Rate: 0.000486 Training Loss: 0.000392 Validation Loss:0.000626\n"
     ]
    },
    {
     "name": "stderr",
     "output_type": "stream",
     "text": [
      "100%|██████████| 1000/1000 [11:19<00:00,  1.47it/s]\n"
     ]
    },
    {
     "name": "stdout",
     "output_type": "stream",
     "text": [
      "Epoch 18: Learning Rate: 0.000484 Training Loss: 0.000377 Validation Loss:0.000592\n",
      "Validation loss decreased(0.000609-->0.000592). Saving model ..\n"
     ]
    },
    {
     "name": "stderr",
     "output_type": "stream",
     "text": [
      "100%|██████████| 1000/1000 [11:19<00:00,  1.47it/s]\n"
     ]
    },
    {
     "name": "stdout",
     "output_type": "stream",
     "text": [
      "Epoch 19: Learning Rate: 0.000482 Training Loss: 0.000360 Validation Loss:0.000610\n"
     ]
    },
    {
     "name": "stderr",
     "output_type": "stream",
     "text": [
      "100%|██████████| 1000/1000 [10:15<00:00,  1.62it/s]\n"
     ]
    },
    {
     "name": "stdout",
     "output_type": "stream",
     "text": [
      "Epoch 20: Learning Rate: 0.000481 Training Loss: 0.000341 Validation Loss:0.000580\n",
      "Validation loss decreased(0.000592-->0.000580). Saving model ..\n"
     ]
    },
    {
     "name": "stderr",
     "output_type": "stream",
     "text": [
      "100%|██████████| 1000/1000 [08:22<00:00,  1.99it/s]\n"
     ]
    },
    {
     "name": "stdout",
     "output_type": "stream",
     "text": [
      "Epoch 21: Learning Rate: 0.000479 Training Loss: 0.000332 Validation Loss:0.000573\n",
      "Validation loss decreased(0.000580-->0.000573). Saving model ..\n"
     ]
    },
    {
     "name": "stderr",
     "output_type": "stream",
     "text": [
      "100%|██████████| 1000/1000 [07:18<00:00,  2.28it/s]\n"
     ]
    },
    {
     "name": "stdout",
     "output_type": "stream",
     "text": [
      "Epoch 22: Learning Rate: 0.000477 Training Loss: 0.000325 Validation Loss:0.000557\n",
      "Validation loss decreased(0.000573-->0.000557). Saving model ..\n"
     ]
    },
    {
     "name": "stderr",
     "output_type": "stream",
     "text": [
      "100%|██████████| 1000/1000 [06:40<00:00,  2.50it/s]\n"
     ]
    },
    {
     "name": "stdout",
     "output_type": "stream",
     "text": [
      "Epoch 23: Learning Rate: 0.000474 Training Loss: 0.000312 Validation Loss:0.000527\n",
      "Validation loss decreased(0.000557-->0.000527). Saving model ..\n"
     ]
    },
    {
     "name": "stderr",
     "output_type": "stream",
     "text": [
      "100%|██████████| 1000/1000 [06:36<00:00,  2.52it/s]\n"
     ]
    },
    {
     "name": "stdout",
     "output_type": "stream",
     "text": [
      "Epoch 24: Learning Rate: 0.000472 Training Loss: 0.000297 Validation Loss:0.000566\n"
     ]
    },
    {
     "name": "stderr",
     "output_type": "stream",
     "text": [
      "100%|██████████| 1000/1000 [06:37<00:00,  2.52it/s]\n"
     ]
    },
    {
     "name": "stdout",
     "output_type": "stream",
     "text": [
      "Epoch 25: Learning Rate: 0.000470 Training Loss: 0.000289 Validation Loss:0.000566\n"
     ]
    },
    {
     "name": "stderr",
     "output_type": "stream",
     "text": [
      "100%|██████████| 1000/1000 [06:30<00:00,  2.56it/s]\n"
     ]
    },
    {
     "name": "stdout",
     "output_type": "stream",
     "text": [
      "Epoch 26: Learning Rate: 0.000467 Training Loss: 0.000280 Validation Loss:0.000620\n"
     ]
    },
    {
     "name": "stderr",
     "output_type": "stream",
     "text": [
      "100%|██████████| 1000/1000 [06:30<00:00,  2.56it/s]\n"
     ]
    },
    {
     "name": "stdout",
     "output_type": "stream",
     "text": [
      "Epoch 27: Learning Rate: 0.000465 Training Loss: 0.000273 Validation Loss:0.000532\n"
     ]
    },
    {
     "name": "stderr",
     "output_type": "stream",
     "text": [
      "100%|██████████| 1000/1000 [06:38<00:00,  2.51it/s]\n"
     ]
    },
    {
     "name": "stdout",
     "output_type": "stream",
     "text": [
      "Epoch 28: Learning Rate: 0.000462 Training Loss: 0.000262 Validation Loss:0.000514\n",
      "Validation loss decreased(0.000527-->0.000514). Saving model ..\n"
     ]
    },
    {
     "name": "stderr",
     "output_type": "stream",
     "text": [
      "100%|██████████| 1000/1000 [06:34<00:00,  2.53it/s]\n"
     ]
    },
    {
     "name": "stdout",
     "output_type": "stream",
     "text": [
      "Epoch 29: Learning Rate: 0.000460 Training Loss: 0.000255 Validation Loss:0.000562\n"
     ]
    },
    {
     "name": "stderr",
     "output_type": "stream",
     "text": [
      "100%|██████████| 1000/1000 [06:34<00:00,  2.54it/s]\n"
     ]
    },
    {
     "name": "stdout",
     "output_type": "stream",
     "text": [
      "Epoch 30: Learning Rate: 0.000457 Training Loss: 0.000246 Validation Loss:0.000534\n"
     ]
    },
    {
     "name": "stderr",
     "output_type": "stream",
     "text": [
      "100%|██████████| 1000/1000 [06:32<00:00,  2.55it/s]\n"
     ]
    },
    {
     "name": "stdout",
     "output_type": "stream",
     "text": [
      "Epoch 31: Learning Rate: 0.000454 Training Loss: 0.000241 Validation Loss:0.000613\n"
     ]
    },
    {
     "name": "stderr",
     "output_type": "stream",
     "text": [
      "100%|██████████| 1000/1000 [06:33<00:00,  2.54it/s]\n"
     ]
    },
    {
     "name": "stdout",
     "output_type": "stream",
     "text": [
      "Epoch 32: Learning Rate: 0.000451 Training Loss: 0.000234 Validation Loss:0.000518\n"
     ]
    },
    {
     "name": "stderr",
     "output_type": "stream",
     "text": [
      "100%|██████████| 1000/1000 [06:38<00:00,  2.51it/s]\n"
     ]
    },
    {
     "name": "stdout",
     "output_type": "stream",
     "text": [
      "Epoch 33: Learning Rate: 0.000448 Training Loss: 0.000231 Validation Loss:0.000486\n",
      "Validation loss decreased(0.000514-->0.000486). Saving model ..\n"
     ]
    },
    {
     "name": "stderr",
     "output_type": "stream",
     "text": [
      "100%|██████████| 1000/1000 [06:36<00:00,  2.52it/s]\n"
     ]
    },
    {
     "name": "stdout",
     "output_type": "stream",
     "text": [
      "Epoch 34: Learning Rate: 0.000445 Training Loss: 0.000223 Validation Loss:0.000489\n"
     ]
    },
    {
     "name": "stderr",
     "output_type": "stream",
     "text": [
      "100%|██████████| 1000/1000 [06:35<00:00,  2.53it/s]\n"
     ]
    },
    {
     "name": "stdout",
     "output_type": "stream",
     "text": [
      "Epoch 35: Learning Rate: 0.000442 Training Loss: 0.000215 Validation Loss:0.000512\n"
     ]
    },
    {
     "name": "stderr",
     "output_type": "stream",
     "text": [
      "100%|██████████| 1000/1000 [06:38<00:00,  2.51it/s]\n"
     ]
    },
    {
     "name": "stdout",
     "output_type": "stream",
     "text": [
      "Epoch 36: Learning Rate: 0.000439 Training Loss: 0.000211 Validation Loss:0.000503\n"
     ]
    },
    {
     "name": "stderr",
     "output_type": "stream",
     "text": [
      "100%|██████████| 1000/1000 [06:37<00:00,  2.52it/s]\n"
     ]
    },
    {
     "name": "stdout",
     "output_type": "stream",
     "text": [
      "Epoch 37: Learning Rate: 0.000436 Training Loss: 0.000207 Validation Loss:0.000494\n"
     ]
    },
    {
     "name": "stderr",
     "output_type": "stream",
     "text": [
      "100%|██████████| 1000/1000 [06:34<00:00,  2.53it/s]\n"
     ]
    },
    {
     "name": "stdout",
     "output_type": "stream",
     "text": [
      "Epoch 38: Learning Rate: 0.000432 Training Loss: 0.000200 Validation Loss:0.000483\n",
      "Validation loss decreased(0.000486-->0.000483). Saving model ..\n"
     ]
    },
    {
     "name": "stderr",
     "output_type": "stream",
     "text": [
      "100%|██████████| 1000/1000 [06:36<00:00,  2.52it/s]\n"
     ]
    },
    {
     "name": "stdout",
     "output_type": "stream",
     "text": [
      "Epoch 39: Learning Rate: 0.000429 Training Loss: 0.000199 Validation Loss:0.000530\n"
     ]
    },
    {
     "name": "stderr",
     "output_type": "stream",
     "text": [
      "100%|██████████| 1000/1000 [06:36<00:00,  2.52it/s]\n"
     ]
    },
    {
     "name": "stdout",
     "output_type": "stream",
     "text": [
      "Epoch 40: Learning Rate: 0.000426 Training Loss: 0.000192 Validation Loss:0.000516\n"
     ]
    },
    {
     "name": "stderr",
     "output_type": "stream",
     "text": [
      "100%|██████████| 1000/1000 [06:38<00:00,  2.51it/s]\n"
     ]
    },
    {
     "name": "stdout",
     "output_type": "stream",
     "text": [
      "Epoch 41: Learning Rate: 0.000422 Training Loss: 0.000188 Validation Loss:0.000491\n"
     ]
    },
    {
     "name": "stderr",
     "output_type": "stream",
     "text": [
      "100%|██████████| 1000/1000 [06:34<00:00,  2.54it/s]\n"
     ]
    },
    {
     "name": "stdout",
     "output_type": "stream",
     "text": [
      "Epoch 42: Learning Rate: 0.000418 Training Loss: 0.000185 Validation Loss:0.000494\n"
     ]
    },
    {
     "name": "stderr",
     "output_type": "stream",
     "text": [
      "100%|██████████| 1000/1000 [06:34<00:00,  2.54it/s]\n"
     ]
    },
    {
     "name": "stdout",
     "output_type": "stream",
     "text": [
      "Epoch 43: Learning Rate: 0.000415 Training Loss: 0.000180 Validation Loss:0.000492\n"
     ]
    },
    {
     "name": "stderr",
     "output_type": "stream",
     "text": [
      "100%|██████████| 1000/1000 [06:35<00:00,  2.53it/s]\n"
     ]
    },
    {
     "name": "stdout",
     "output_type": "stream",
     "text": [
      "Epoch 44: Learning Rate: 0.000411 Training Loss: 0.000177 Validation Loss:0.000513\n"
     ]
    },
    {
     "name": "stderr",
     "output_type": "stream",
     "text": [
      "100%|██████████| 1000/1000 [06:38<00:00,  2.51it/s]\n"
     ]
    },
    {
     "name": "stdout",
     "output_type": "stream",
     "text": [
      "Epoch 45: Learning Rate: 0.000407 Training Loss: 0.000172 Validation Loss:0.000487\n"
     ]
    },
    {
     "name": "stderr",
     "output_type": "stream",
     "text": [
      "100%|██████████| 1000/1000 [06:33<00:00,  2.54it/s]\n"
     ]
    },
    {
     "name": "stdout",
     "output_type": "stream",
     "text": [
      "Epoch 46: Learning Rate: 0.000403 Training Loss: 0.000170 Validation Loss:0.000470\n",
      "Validation loss decreased(0.000483-->0.000470). Saving model ..\n"
     ]
    },
    {
     "name": "stderr",
     "output_type": "stream",
     "text": [
      "100%|██████████| 1000/1000 [07:09<00:00,  2.33it/s]\n"
     ]
    },
    {
     "name": "stdout",
     "output_type": "stream",
     "text": [
      "Epoch 47: Learning Rate: 0.000400 Training Loss: 0.000167 Validation Loss:0.000487\n"
     ]
    },
    {
     "name": "stderr",
     "output_type": "stream",
     "text": [
      "100%|██████████| 1000/1000 [07:01<00:00,  2.37it/s]\n"
     ]
    },
    {
     "name": "stdout",
     "output_type": "stream",
     "text": [
      "Epoch 48: Learning Rate: 0.000396 Training Loss: 0.000162 Validation Loss:0.000458\n",
      "Validation loss decreased(0.000470-->0.000458). Saving model ..\n"
     ]
    },
    {
     "name": "stderr",
     "output_type": "stream",
     "text": [
      "100%|██████████| 1000/1000 [07:13<00:00,  2.31it/s]\n"
     ]
    },
    {
     "name": "stdout",
     "output_type": "stream",
     "text": [
      "Epoch 49: Learning Rate: 0.000392 Training Loss: 0.000160 Validation Loss:0.000452\n",
      "Validation loss decreased(0.000458-->0.000452). Saving model ..\n"
     ]
    },
    {
     "name": "stderr",
     "output_type": "stream",
     "text": [
      "100%|██████████| 1000/1000 [07:13<00:00,  2.31it/s]\n"
     ]
    },
    {
     "name": "stdout",
     "output_type": "stream",
     "text": [
      "Epoch 50: Learning Rate: 0.000387 Training Loss: 0.000157 Validation Loss:0.000457\n"
     ]
    },
    {
     "name": "stderr",
     "output_type": "stream",
     "text": [
      "100%|██████████| 1000/1000 [07:01<00:00,  2.37it/s]\n"
     ]
    },
    {
     "name": "stdout",
     "output_type": "stream",
     "text": [
      "Epoch 51: Learning Rate: 0.000383 Training Loss: 0.000156 Validation Loss:0.000461\n"
     ]
    },
    {
     "name": "stderr",
     "output_type": "stream",
     "text": [
      "100%|██████████| 1000/1000 [07:08<00:00,  2.33it/s]\n"
     ]
    },
    {
     "name": "stdout",
     "output_type": "stream",
     "text": [
      "Epoch 52: Learning Rate: 0.000379 Training Loss: 0.000151 Validation Loss:0.000478\n"
     ]
    },
    {
     "name": "stderr",
     "output_type": "stream",
     "text": [
      "100%|██████████| 1000/1000 [07:07<00:00,  2.34it/s]\n"
     ]
    },
    {
     "name": "stdout",
     "output_type": "stream",
     "text": [
      "Epoch 53: Learning Rate: 0.000375 Training Loss: 0.000149 Validation Loss:0.000456\n"
     ]
    },
    {
     "name": "stderr",
     "output_type": "stream",
     "text": [
      "100%|██████████| 1000/1000 [07:10<00:00,  2.32it/s]\n"
     ]
    },
    {
     "name": "stdout",
     "output_type": "stream",
     "text": [
      "Epoch 54: Learning Rate: 0.000371 Training Loss: 0.000148 Validation Loss:0.000454\n"
     ]
    },
    {
     "name": "stderr",
     "output_type": "stream",
     "text": [
      "100%|██████████| 1000/1000 [07:10<00:00,  2.32it/s]\n"
     ]
    },
    {
     "name": "stdout",
     "output_type": "stream",
     "text": [
      "Epoch 55: Learning Rate: 0.000367 Training Loss: 0.000143 Validation Loss:0.000471\n"
     ]
    },
    {
     "name": "stderr",
     "output_type": "stream",
     "text": [
      "100%|██████████| 1000/1000 [07:14<00:00,  2.30it/s]\n"
     ]
    },
    {
     "name": "stdout",
     "output_type": "stream",
     "text": [
      "Epoch 56: Learning Rate: 0.000362 Training Loss: 0.000141 Validation Loss:0.000457\n"
     ]
    },
    {
     "name": "stderr",
     "output_type": "stream",
     "text": [
      "100%|██████████| 1000/1000 [07:09<00:00,  2.33it/s]\n"
     ]
    },
    {
     "name": "stdout",
     "output_type": "stream",
     "text": [
      "Epoch 57: Learning Rate: 0.000358 Training Loss: 0.000139 Validation Loss:0.000460\n"
     ]
    },
    {
     "name": "stderr",
     "output_type": "stream",
     "text": [
      "100%|██████████| 1000/1000 [07:05<00:00,  2.35it/s]\n"
     ]
    },
    {
     "name": "stdout",
     "output_type": "stream",
     "text": [
      "Epoch 58: Learning Rate: 0.000353 Training Loss: 0.000136 Validation Loss:0.000451\n",
      "Validation loss decreased(0.000452-->0.000451). Saving model ..\n"
     ]
    },
    {
     "name": "stderr",
     "output_type": "stream",
     "text": [
      "100%|██████████| 1000/1000 [07:03<00:00,  2.36it/s]\n"
     ]
    },
    {
     "name": "stdout",
     "output_type": "stream",
     "text": [
      "Epoch 59: Learning Rate: 0.000349 Training Loss: 0.000134 Validation Loss:0.000456\n"
     ]
    },
    {
     "name": "stderr",
     "output_type": "stream",
     "text": [
      "100%|██████████| 1000/1000 [07:05<00:00,  2.35it/s]\n"
     ]
    },
    {
     "name": "stdout",
     "output_type": "stream",
     "text": [
      "Epoch 60: Learning Rate: 0.000345 Training Loss: 0.000133 Validation Loss:0.000514\n"
     ]
    },
    {
     "name": "stderr",
     "output_type": "stream",
     "text": [
      "100%|██████████| 1000/1000 [06:57<00:00,  2.40it/s]\n"
     ]
    },
    {
     "name": "stdout",
     "output_type": "stream",
     "text": [
      "Epoch 61: Learning Rate: 0.000340 Training Loss: 0.000130 Validation Loss:0.000450\n",
      "Validation loss decreased(0.000451-->0.000450). Saving model ..\n"
     ]
    },
    {
     "name": "stderr",
     "output_type": "stream",
     "text": [
      "100%|██████████| 1000/1000 [07:09<00:00,  2.33it/s]\n"
     ]
    },
    {
     "name": "stdout",
     "output_type": "stream",
     "text": [
      "Epoch 62: Learning Rate: 0.000336 Training Loss: 0.000129 Validation Loss:0.000454\n"
     ]
    },
    {
     "name": "stderr",
     "output_type": "stream",
     "text": [
      "100%|██████████| 1000/1000 [07:05<00:00,  2.35it/s]\n"
     ]
    },
    {
     "name": "stdout",
     "output_type": "stream",
     "text": [
      "Epoch 63: Learning Rate: 0.000331 Training Loss: 0.000126 Validation Loss:0.000458\n"
     ]
    },
    {
     "name": "stderr",
     "output_type": "stream",
     "text": [
      "100%|██████████| 1000/1000 [07:18<00:00,  2.28it/s]\n"
     ]
    },
    {
     "name": "stdout",
     "output_type": "stream",
     "text": [
      "Epoch 64: Learning Rate: 0.000326 Training Loss: 0.000125 Validation Loss:0.000449\n",
      "Validation loss decreased(0.000450-->0.000449). Saving model ..\n"
     ]
    },
    {
     "name": "stderr",
     "output_type": "stream",
     "text": [
      "100%|██████████| 1000/1000 [07:27<00:00,  2.24it/s]\n"
     ]
    },
    {
     "name": "stdout",
     "output_type": "stream",
     "text": [
      "Epoch 65: Learning Rate: 0.000322 Training Loss: 0.000122 Validation Loss:0.000465\n"
     ]
    },
    {
     "name": "stderr",
     "output_type": "stream",
     "text": [
      "100%|██████████| 1000/1000 [07:23<00:00,  2.25it/s]\n"
     ]
    },
    {
     "name": "stdout",
     "output_type": "stream",
     "text": [
      "Epoch 66: Learning Rate: 0.000317 Training Loss: 0.000121 Validation Loss:0.000452\n"
     ]
    },
    {
     "name": "stderr",
     "output_type": "stream",
     "text": [
      "100%|██████████| 1000/1000 [07:05<00:00,  2.35it/s]\n"
     ]
    },
    {
     "name": "stdout",
     "output_type": "stream",
     "text": [
      "Epoch 67: Learning Rate: 0.000313 Training Loss: 0.000119 Validation Loss:0.000465\n"
     ]
    },
    {
     "name": "stderr",
     "output_type": "stream",
     "text": [
      "100%|██████████| 1000/1000 [07:33<00:00,  2.21it/s]\n"
     ]
    },
    {
     "name": "stdout",
     "output_type": "stream",
     "text": [
      "Epoch 68: Learning Rate: 0.000308 Training Loss: 0.000118 Validation Loss:0.000448\n",
      "Validation loss decreased(0.000449-->0.000448). Saving model ..\n"
     ]
    },
    {
     "name": "stderr",
     "output_type": "stream",
     "text": [
      "100%|██████████| 1000/1000 [07:17<00:00,  2.29it/s]\n"
     ]
    },
    {
     "name": "stdout",
     "output_type": "stream",
     "text": [
      "Epoch 69: Learning Rate: 0.000303 Training Loss: 0.000116 Validation Loss:0.000447\n",
      "Validation loss decreased(0.000448-->0.000447). Saving model ..\n"
     ]
    },
    {
     "name": "stderr",
     "output_type": "stream",
     "text": [
      "100%|██████████| 1000/1000 [07:20<00:00,  2.27it/s]\n"
     ]
    },
    {
     "name": "stdout",
     "output_type": "stream",
     "text": [
      "Epoch 70: Learning Rate: 0.000299 Training Loss: 0.000115 Validation Loss:0.000443\n",
      "Validation loss decreased(0.000447-->0.000443). Saving model ..\n"
     ]
    },
    {
     "name": "stderr",
     "output_type": "stream",
     "text": [
      "100%|██████████| 1000/1000 [07:22<00:00,  2.26it/s]\n"
     ]
    },
    {
     "name": "stdout",
     "output_type": "stream",
     "text": [
      "Epoch 71: Learning Rate: 0.000294 Training Loss: 0.000113 Validation Loss:0.000442\n",
      "Validation loss decreased(0.000443-->0.000442). Saving model ..\n"
     ]
    },
    {
     "name": "stderr",
     "output_type": "stream",
     "text": [
      "100%|██████████| 1000/1000 [07:26<00:00,  2.24it/s]\n"
     ]
    },
    {
     "name": "stdout",
     "output_type": "stream",
     "text": [
      "Epoch 72: Learning Rate: 0.000289 Training Loss: 0.000111 Validation Loss:0.000433\n",
      "Validation loss decreased(0.000442-->0.000433). Saving model ..\n"
     ]
    },
    {
     "name": "stderr",
     "output_type": "stream",
     "text": [
      "100%|██████████| 1000/1000 [07:18<00:00,  2.28it/s]\n"
     ]
    },
    {
     "name": "stdout",
     "output_type": "stream",
     "text": [
      "Epoch 73: Learning Rate: 0.000284 Training Loss: 0.000110 Validation Loss:0.000433\n",
      "Validation loss decreased(0.000433-->0.000433). Saving model ..\n"
     ]
    },
    {
     "name": "stderr",
     "output_type": "stream",
     "text": [
      "100%|██████████| 1000/1000 [07:23<00:00,  2.26it/s]\n"
     ]
    },
    {
     "name": "stdout",
     "output_type": "stream",
     "text": [
      "Epoch 74: Learning Rate: 0.000280 Training Loss: 0.000108 Validation Loss:0.000433\n"
     ]
    },
    {
     "name": "stderr",
     "output_type": "stream",
     "text": [
      "100%|██████████| 1000/1000 [07:02<00:00,  2.37it/s]\n"
     ]
    },
    {
     "name": "stdout",
     "output_type": "stream",
     "text": [
      "Epoch 75: Learning Rate: 0.000275 Training Loss: 0.000108 Validation Loss:0.000444\n"
     ]
    },
    {
     "name": "stderr",
     "output_type": "stream",
     "text": [
      "100%|██████████| 1000/1000 [07:01<00:00,  2.37it/s]\n"
     ]
    },
    {
     "name": "stdout",
     "output_type": "stream",
     "text": [
      "Epoch 76: Learning Rate: 0.000270 Training Loss: 0.000105 Validation Loss:0.000434\n"
     ]
    },
    {
     "name": "stderr",
     "output_type": "stream",
     "text": [
      "100%|██████████| 1000/1000 [07:11<00:00,  2.32it/s]\n"
     ]
    },
    {
     "name": "stdout",
     "output_type": "stream",
     "text": [
      "Epoch 77: Learning Rate: 0.000266 Training Loss: 0.000104 Validation Loss:0.000427\n",
      "Validation loss decreased(0.000433-->0.000427). Saving model ..\n"
     ]
    },
    {
     "name": "stderr",
     "output_type": "stream",
     "text": [
      "100%|██████████| 1000/1000 [07:08<00:00,  2.33it/s]\n"
     ]
    },
    {
     "name": "stdout",
     "output_type": "stream",
     "text": [
      "Epoch 78: Learning Rate: 0.000261 Training Loss: 0.000103 Validation Loss:0.000427\n"
     ]
    },
    {
     "name": "stderr",
     "output_type": "stream",
     "text": [
      "100%|██████████| 1000/1000 [07:07<00:00,  2.34it/s]\n"
     ]
    },
    {
     "name": "stdout",
     "output_type": "stream",
     "text": [
      "Epoch 79: Learning Rate: 0.000256 Training Loss: 0.000102 Validation Loss:0.000430\n"
     ]
    },
    {
     "name": "stderr",
     "output_type": "stream",
     "text": [
      "100%|██████████| 1000/1000 [07:05<00:00,  2.35it/s]\n"
     ]
    },
    {
     "name": "stdout",
     "output_type": "stream",
     "text": [
      "Epoch 80: Learning Rate: 0.000251 Training Loss: 0.000100 Validation Loss:0.000436\n"
     ]
    },
    {
     "name": "stderr",
     "output_type": "stream",
     "text": [
      "100%|██████████| 1000/1000 [07:09<00:00,  2.33it/s]\n"
     ]
    },
    {
     "name": "stdout",
     "output_type": "stream",
     "text": [
      "Epoch 81: Learning Rate: 0.000247 Training Loss: 0.000099 Validation Loss:0.000427\n",
      "Validation loss decreased(0.000427-->0.000427). Saving model ..\n"
     ]
    },
    {
     "name": "stderr",
     "output_type": "stream",
     "text": [
      "100%|██████████| 1000/1000 [07:00<00:00,  2.38it/s]\n"
     ]
    },
    {
     "name": "stdout",
     "output_type": "stream",
     "text": [
      "Epoch 82: Learning Rate: 0.000242 Training Loss: 0.000099 Validation Loss:0.000430\n"
     ]
    },
    {
     "name": "stderr",
     "output_type": "stream",
     "text": [
      "100%|██████████| 1000/1000 [07:03<00:00,  2.36it/s]\n"
     ]
    },
    {
     "name": "stdout",
     "output_type": "stream",
     "text": [
      "Epoch 83: Learning Rate: 0.000237 Training Loss: 0.000097 Validation Loss:0.000444\n"
     ]
    },
    {
     "name": "stderr",
     "output_type": "stream",
     "text": [
      "100%|██████████| 1000/1000 [06:59<00:00,  2.38it/s]\n"
     ]
    },
    {
     "name": "stdout",
     "output_type": "stream",
     "text": [
      "Epoch 84: Learning Rate: 0.000233 Training Loss: 0.000096 Validation Loss:0.000415\n",
      "Validation loss decreased(0.000427-->0.000415). Saving model ..\n"
     ]
    },
    {
     "name": "stderr",
     "output_type": "stream",
     "text": [
      "100%|██████████| 1000/1000 [07:04<00:00,  2.35it/s]\n"
     ]
    },
    {
     "name": "stdout",
     "output_type": "stream",
     "text": [
      "Epoch 85: Learning Rate: 0.000228 Training Loss: 0.000094 Validation Loss:0.000419\n"
     ]
    },
    {
     "name": "stderr",
     "output_type": "stream",
     "text": [
      "100%|██████████| 1000/1000 [07:15<00:00,  2.30it/s]\n"
     ]
    },
    {
     "name": "stdout",
     "output_type": "stream",
     "text": [
      "Epoch 86: Learning Rate: 0.000224 Training Loss: 0.000093 Validation Loss:0.000412\n",
      "Validation loss decreased(0.000415-->0.000412). Saving model ..\n"
     ]
    },
    {
     "name": "stderr",
     "output_type": "stream",
     "text": [
      "100%|██████████| 1000/1000 [07:05<00:00,  2.35it/s]\n"
     ]
    },
    {
     "name": "stdout",
     "output_type": "stream",
     "text": [
      "Epoch 87: Learning Rate: 0.000219 Training Loss: 0.000092 Validation Loss:0.000418\n"
     ]
    },
    {
     "name": "stderr",
     "output_type": "stream",
     "text": [
      "100%|██████████| 1000/1000 [07:02<00:00,  2.37it/s]\n"
     ]
    },
    {
     "name": "stdout",
     "output_type": "stream",
     "text": [
      "Epoch 88: Learning Rate: 0.000214 Training Loss: 0.000091 Validation Loss:0.000421\n"
     ]
    },
    {
     "name": "stderr",
     "output_type": "stream",
     "text": [
      "100%|██████████| 1000/1000 [07:07<00:00,  2.34it/s]\n"
     ]
    },
    {
     "name": "stdout",
     "output_type": "stream",
     "text": [
      "Epoch 89: Learning Rate: 0.000210 Training Loss: 0.000090 Validation Loss:0.000425\n"
     ]
    },
    {
     "name": "stderr",
     "output_type": "stream",
     "text": [
      "100%|██████████| 1000/1000 [07:04<00:00,  2.35it/s]\n"
     ]
    },
    {
     "name": "stdout",
     "output_type": "stream",
     "text": [
      "Epoch 90: Learning Rate: 0.000205 Training Loss: 0.000089 Validation Loss:0.000414\n"
     ]
    },
    {
     "name": "stderr",
     "output_type": "stream",
     "text": [
      "100%|██████████| 1000/1000 [07:07<00:00,  2.34it/s]\n"
     ]
    },
    {
     "name": "stdout",
     "output_type": "stream",
     "text": [
      "Epoch 91: Learning Rate: 0.000201 Training Loss: 0.000088 Validation Loss:0.000414\n"
     ]
    },
    {
     "name": "stderr",
     "output_type": "stream",
     "text": [
      "100%|██████████| 1000/1000 [07:12<00:00,  2.31it/s]\n"
     ]
    },
    {
     "name": "stdout",
     "output_type": "stream",
     "text": [
      "Epoch 92: Learning Rate: 0.000197 Training Loss: 0.000087 Validation Loss:0.000427\n"
     ]
    },
    {
     "name": "stderr",
     "output_type": "stream",
     "text": [
      "100%|██████████| 1000/1000 [07:06<00:00,  2.35it/s]\n"
     ]
    },
    {
     "name": "stdout",
     "output_type": "stream",
     "text": [
      "Epoch 93: Learning Rate: 0.000192 Training Loss: 0.000087 Validation Loss:0.000423\n"
     ]
    },
    {
     "name": "stderr",
     "output_type": "stream",
     "text": [
      "100%|██████████| 1000/1000 [07:29<00:00,  2.22it/s]\n"
     ]
    },
    {
     "name": "stdout",
     "output_type": "stream",
     "text": [
      "Epoch 94: Learning Rate: 0.000188 Training Loss: 0.000086 Validation Loss:0.000410\n",
      "Validation loss decreased(0.000412-->0.000410). Saving model ..\n"
     ]
    },
    {
     "name": "stderr",
     "output_type": "stream",
     "text": [
      "100%|██████████| 1000/1000 [07:13<00:00,  2.31it/s]\n"
     ]
    },
    {
     "name": "stdout",
     "output_type": "stream",
     "text": [
      "Epoch 95: Learning Rate: 0.000183 Training Loss: 0.000084 Validation Loss:0.000422\n"
     ]
    },
    {
     "name": "stderr",
     "output_type": "stream",
     "text": [
      "100%|██████████| 1000/1000 [07:07<00:00,  2.34it/s]\n"
     ]
    },
    {
     "name": "stdout",
     "output_type": "stream",
     "text": [
      "Epoch 96: Learning Rate: 0.000179 Training Loss: 0.000084 Validation Loss:0.000414\n"
     ]
    },
    {
     "name": "stderr",
     "output_type": "stream",
     "text": [
      "100%|██████████| 1000/1000 [07:15<00:00,  2.30it/s]\n"
     ]
    },
    {
     "name": "stdout",
     "output_type": "stream",
     "text": [
      "Epoch 97: Learning Rate: 0.000175 Training Loss: 0.000083 Validation Loss:0.000416\n"
     ]
    },
    {
     "name": "stderr",
     "output_type": "stream",
     "text": [
      "100%|██████████| 1000/1000 [07:20<00:00,  2.27it/s]\n"
     ]
    },
    {
     "name": "stdout",
     "output_type": "stream",
     "text": [
      "Epoch 98: Learning Rate: 0.000171 Training Loss: 0.000082 Validation Loss:0.000419\n"
     ]
    },
    {
     "name": "stderr",
     "output_type": "stream",
     "text": [
      "100%|██████████| 1000/1000 [07:17<00:00,  2.28it/s]\n"
     ]
    },
    {
     "name": "stdout",
     "output_type": "stream",
     "text": [
      "Epoch 99: Learning Rate: 0.000167 Training Loss: 0.000081 Validation Loss:0.000420\n"
     ]
    },
    {
     "name": "stderr",
     "output_type": "stream",
     "text": [
      "100%|██████████| 1000/1000 [07:07<00:00,  2.34it/s]\n"
     ]
    },
    {
     "name": "stdout",
     "output_type": "stream",
     "text": [
      "Epoch 100: Learning Rate: 0.000162 Training Loss: 0.000081 Validation Loss:0.000415\n"
     ]
    },
    {
     "name": "stderr",
     "output_type": "stream",
     "text": [
      "100%|██████████| 1000/1000 [07:15<00:00,  2.30it/s]\n"
     ]
    },
    {
     "name": "stdout",
     "output_type": "stream",
     "text": [
      "Epoch 101: Learning Rate: 0.000158 Training Loss: 0.000080 Validation Loss:0.000408\n",
      "Validation loss decreased(0.000410-->0.000408). Saving model ..\n"
     ]
    },
    {
     "name": "stderr",
     "output_type": "stream",
     "text": [
      "100%|██████████| 1000/1000 [07:12<00:00,  2.31it/s]\n"
     ]
    },
    {
     "name": "stdout",
     "output_type": "stream",
     "text": [
      "Epoch 102: Learning Rate: 0.000154 Training Loss: 0.000079 Validation Loss:0.000417\n"
     ]
    },
    {
     "name": "stderr",
     "output_type": "stream",
     "text": [
      "100%|██████████| 1000/1000 [07:04<00:00,  2.35it/s]\n"
     ]
    },
    {
     "name": "stdout",
     "output_type": "stream",
     "text": [
      "Epoch 103: Learning Rate: 0.000150 Training Loss: 0.000078 Validation Loss:0.000411\n"
     ]
    },
    {
     "name": "stderr",
     "output_type": "stream",
     "text": [
      "100%|██████████| 1000/1000 [07:20<00:00,  2.27it/s]\n"
     ]
    },
    {
     "name": "stdout",
     "output_type": "stream",
     "text": [
      "Epoch 104: Learning Rate: 0.000147 Training Loss: 0.000077 Validation Loss:0.000403\n",
      "Validation loss decreased(0.000408-->0.000403). Saving model ..\n"
     ]
    },
    {
     "name": "stderr",
     "output_type": "stream",
     "text": [
      "100%|██████████| 1000/1000 [07:28<00:00,  2.23it/s]\n"
     ]
    },
    {
     "name": "stdout",
     "output_type": "stream",
     "text": [
      "Epoch 105: Learning Rate: 0.000143 Training Loss: 0.000077 Validation Loss:0.000409\n"
     ]
    },
    {
     "name": "stderr",
     "output_type": "stream",
     "text": [
      "100%|██████████| 1000/1000 [07:28<00:00,  2.23it/s]\n"
     ]
    },
    {
     "name": "stdout",
     "output_type": "stream",
     "text": [
      "Epoch 106: Learning Rate: 0.000139 Training Loss: 0.000077 Validation Loss:0.000400\n",
      "Validation loss decreased(0.000403-->0.000400). Saving model ..\n"
     ]
    },
    {
     "name": "stderr",
     "output_type": "stream",
     "text": [
      "100%|██████████| 1000/1000 [07:22<00:00,  2.26it/s]\n"
     ]
    },
    {
     "name": "stdout",
     "output_type": "stream",
     "text": [
      "Epoch 107: Learning Rate: 0.000135 Training Loss: 0.000076 Validation Loss:0.000413\n"
     ]
    },
    {
     "name": "stderr",
     "output_type": "stream",
     "text": [
      "100%|██████████| 1000/1000 [07:31<00:00,  2.21it/s]\n"
     ]
    },
    {
     "name": "stdout",
     "output_type": "stream",
     "text": [
      "Epoch 108: Learning Rate: 0.000132 Training Loss: 0.000075 Validation Loss:0.000409\n"
     ]
    },
    {
     "name": "stderr",
     "output_type": "stream",
     "text": [
      "100%|██████████| 1000/1000 [07:35<00:00,  2.19it/s]\n"
     ]
    },
    {
     "name": "stdout",
     "output_type": "stream",
     "text": [
      "Epoch 109: Learning Rate: 0.000128 Training Loss: 0.000074 Validation Loss:0.000415\n"
     ]
    },
    {
     "name": "stderr",
     "output_type": "stream",
     "text": [
      "100%|██████████| 1000/1000 [07:19<00:00,  2.27it/s]\n"
     ]
    },
    {
     "name": "stdout",
     "output_type": "stream",
     "text": [
      "Epoch 110: Learning Rate: 0.000124 Training Loss: 0.000074 Validation Loss:0.000401\n"
     ]
    },
    {
     "name": "stderr",
     "output_type": "stream",
     "text": [
      "100%|██████████| 1000/1000 [07:11<00:00,  2.31it/s]\n"
     ]
    },
    {
     "name": "stdout",
     "output_type": "stream",
     "text": [
      "Epoch 111: Learning Rate: 0.000121 Training Loss: 0.000073 Validation Loss:0.000412\n"
     ]
    },
    {
     "name": "stderr",
     "output_type": "stream",
     "text": [
      "100%|██████████| 1000/1000 [07:24<00:00,  2.25it/s]\n"
     ]
    },
    {
     "name": "stdout",
     "output_type": "stream",
     "text": [
      "Epoch 112: Learning Rate: 0.000118 Training Loss: 0.000072 Validation Loss:0.000416\n"
     ]
    },
    {
     "name": "stderr",
     "output_type": "stream",
     "text": [
      "100%|██████████| 1000/1000 [07:27<00:00,  2.23it/s]\n"
     ]
    },
    {
     "name": "stdout",
     "output_type": "stream",
     "text": [
      "Epoch 113: Learning Rate: 0.000114 Training Loss: 0.000072 Validation Loss:0.000404\n"
     ]
    },
    {
     "name": "stderr",
     "output_type": "stream",
     "text": [
      "100%|██████████| 1000/1000 [07:13<00:00,  2.31it/s]\n"
     ]
    },
    {
     "name": "stdout",
     "output_type": "stream",
     "text": [
      "Epoch 114: Learning Rate: 0.000111 Training Loss: 0.000072 Validation Loss:0.000412\n"
     ]
    },
    {
     "name": "stderr",
     "output_type": "stream",
     "text": [
      "100%|██████████| 1000/1000 [07:23<00:00,  2.26it/s]\n"
     ]
    },
    {
     "name": "stdout",
     "output_type": "stream",
     "text": [
      "Epoch 115: Learning Rate: 0.000108 Training Loss: 0.000071 Validation Loss:0.000409\n"
     ]
    },
    {
     "name": "stderr",
     "output_type": "stream",
     "text": [
      "100%|██████████| 1000/1000 [07:19<00:00,  2.28it/s]\n"
     ]
    },
    {
     "name": "stdout",
     "output_type": "stream",
     "text": [
      "Epoch 116: Learning Rate: 0.000105 Training Loss: 0.000070 Validation Loss:0.000406\n"
     ]
    },
    {
     "name": "stderr",
     "output_type": "stream",
     "text": [
      "100%|██████████| 1000/1000 [07:22<00:00,  2.26it/s]\n"
     ]
    },
    {
     "name": "stdout",
     "output_type": "stream",
     "text": [
      "Epoch 117: Learning Rate: 0.000102 Training Loss: 0.000070 Validation Loss:0.000413\n"
     ]
    },
    {
     "name": "stderr",
     "output_type": "stream",
     "text": [
      "100%|██████████| 1000/1000 [07:13<00:00,  2.31it/s]\n"
     ]
    },
    {
     "name": "stdout",
     "output_type": "stream",
     "text": [
      "Epoch 118: Learning Rate: 0.000099 Training Loss: 0.000069 Validation Loss:0.000408\n"
     ]
    },
    {
     "name": "stderr",
     "output_type": "stream",
     "text": [
      "100%|██████████| 1000/1000 [07:16<00:00,  2.29it/s]\n"
     ]
    },
    {
     "name": "stdout",
     "output_type": "stream",
     "text": [
      "Epoch 119: Learning Rate: 0.000096 Training Loss: 0.000069 Validation Loss:0.000410\n"
     ]
    },
    {
     "name": "stderr",
     "output_type": "stream",
     "text": [
      "100%|██████████| 1000/1000 [07:26<00:00,  2.24it/s]\n"
     ]
    },
    {
     "name": "stdout",
     "output_type": "stream",
     "text": [
      "Epoch 120: Learning Rate: 0.000093 Training Loss: 0.000068 Validation Loss:0.000411\n"
     ]
    },
    {
     "name": "stderr",
     "output_type": "stream",
     "text": [
      "100%|██████████| 1000/1000 [07:06<00:00,  2.35it/s]\n"
     ]
    },
    {
     "name": "stdout",
     "output_type": "stream",
     "text": [
      "Epoch 121: Learning Rate: 0.000090 Training Loss: 0.000068 Validation Loss:0.000404\n"
     ]
    },
    {
     "name": "stderr",
     "output_type": "stream",
     "text": [
      "100%|██████████| 1000/1000 [07:09<00:00,  2.33it/s]\n"
     ]
    },
    {
     "name": "stdout",
     "output_type": "stream",
     "text": [
      "Epoch 122: Learning Rate: 0.000088 Training Loss: 0.000067 Validation Loss:0.000401\n"
     ]
    },
    {
     "name": "stderr",
     "output_type": "stream",
     "text": [
      "100%|██████████| 1000/1000 [07:05<00:00,  2.35it/s]\n"
     ]
    },
    {
     "name": "stdout",
     "output_type": "stream",
     "text": [
      "Epoch 123: Learning Rate: 0.000085 Training Loss: 0.000067 Validation Loss:0.000406\n"
     ]
    },
    {
     "name": "stderr",
     "output_type": "stream",
     "text": [
      "100%|██████████| 1000/1000 [07:07<00:00,  2.34it/s]\n"
     ]
    },
    {
     "name": "stdout",
     "output_type": "stream",
     "text": [
      "Epoch 124: Learning Rate: 0.000083 Training Loss: 0.000067 Validation Loss:0.000410\n"
     ]
    },
    {
     "name": "stderr",
     "output_type": "stream",
     "text": [
      "100%|██████████| 1000/1000 [07:08<00:00,  2.33it/s]\n"
     ]
    },
    {
     "name": "stdout",
     "output_type": "stream",
     "text": [
      "Epoch 125: Learning Rate: 0.000080 Training Loss: 0.000066 Validation Loss:0.000399\n",
      "Validation loss decreased(0.000400-->0.000399). Saving model ..\n"
     ]
    },
    {
     "name": "stderr",
     "output_type": "stream",
     "text": [
      "100%|██████████| 1000/1000 [07:15<00:00,  2.30it/s]\n"
     ]
    },
    {
     "name": "stdout",
     "output_type": "stream",
     "text": [
      "Epoch 126: Learning Rate: 0.000078 Training Loss: 0.000066 Validation Loss:0.000407\n"
     ]
    },
    {
     "name": "stderr",
     "output_type": "stream",
     "text": [
      "100%|██████████| 1000/1000 [07:05<00:00,  2.35it/s]\n"
     ]
    },
    {
     "name": "stdout",
     "output_type": "stream",
     "text": [
      "Epoch 127: Learning Rate: 0.000076 Training Loss: 0.000065 Validation Loss:0.000401\n"
     ]
    },
    {
     "name": "stderr",
     "output_type": "stream",
     "text": [
      "100%|██████████| 1000/1000 [07:07<00:00,  2.34it/s]\n"
     ]
    },
    {
     "name": "stdout",
     "output_type": "stream",
     "text": [
      "Epoch 128: Learning Rate: 0.000073 Training Loss: 0.000065 Validation Loss:0.000410\n"
     ]
    },
    {
     "name": "stderr",
     "output_type": "stream",
     "text": [
      "100%|██████████| 1000/1000 [07:23<00:00,  2.25it/s]\n"
     ]
    },
    {
     "name": "stdout",
     "output_type": "stream",
     "text": [
      "Epoch 129: Learning Rate: 0.000071 Training Loss: 0.000065 Validation Loss:0.000410\n"
     ]
    },
    {
     "name": "stderr",
     "output_type": "stream",
     "text": [
      "100%|██████████| 1000/1000 [07:28<00:00,  2.23it/s]\n"
     ]
    },
    {
     "name": "stdout",
     "output_type": "stream",
     "text": [
      "Epoch 130: Learning Rate: 0.000069 Training Loss: 0.000065 Validation Loss:0.000400\n"
     ]
    },
    {
     "name": "stderr",
     "output_type": "stream",
     "text": [
      "100%|██████████| 1000/1000 [09:52<00:00,  1.69it/s]\n"
     ]
    },
    {
     "name": "stdout",
     "output_type": "stream",
     "text": [
      "Epoch 131: Learning Rate: 0.000068 Training Loss: 0.000064 Validation Loss:0.000407\n"
     ]
    },
    {
     "name": "stderr",
     "output_type": "stream",
     "text": [
      "100%|██████████| 1000/1000 [09:47<00:00,  1.70it/s]\n"
     ]
    },
    {
     "name": "stdout",
     "output_type": "stream",
     "text": [
      "Epoch 132: Learning Rate: 0.000066 Training Loss: 0.000064 Validation Loss:0.000409\n"
     ]
    },
    {
     "name": "stderr",
     "output_type": "stream",
     "text": [
      "100%|██████████| 1000/1000 [08:24<00:00,  1.98it/s]\n"
     ]
    },
    {
     "name": "stdout",
     "output_type": "stream",
     "text": [
      "Epoch 133: Learning Rate: 0.000064 Training Loss: 0.000063 Validation Loss:0.000405\n"
     ]
    },
    {
     "name": "stderr",
     "output_type": "stream",
     "text": [
      "100%|██████████| 1000/1000 [09:44<00:00,  1.71it/s]\n"
     ]
    },
    {
     "name": "stdout",
     "output_type": "stream",
     "text": [
      "Epoch 134: Learning Rate: 0.000063 Training Loss: 0.000063 Validation Loss:0.000405\n"
     ]
    },
    {
     "name": "stderr",
     "output_type": "stream",
     "text": [
      "100%|██████████| 1000/1000 [09:48<00:00,  1.70it/s]\n"
     ]
    },
    {
     "name": "stdout",
     "output_type": "stream",
     "text": [
      "Epoch 135: Learning Rate: 0.000061 Training Loss: 0.000063 Validation Loss:0.000408\n"
     ]
    },
    {
     "name": "stderr",
     "output_type": "stream",
     "text": [
      "100%|██████████| 1000/1000 [09:15<00:00,  1.80it/s]\n"
     ]
    },
    {
     "name": "stdout",
     "output_type": "stream",
     "text": [
      "Epoch 136: Learning Rate: 0.000060 Training Loss: 0.000063 Validation Loss:0.000403\n"
     ]
    },
    {
     "name": "stderr",
     "output_type": "stream",
     "text": [
      "100%|██████████| 1000/1000 [09:10<00:00,  1.82it/s]\n"
     ]
    },
    {
     "name": "stdout",
     "output_type": "stream",
     "text": [
      "Epoch 137: Learning Rate: 0.000058 Training Loss: 0.000062 Validation Loss:0.000403\n"
     ]
    },
    {
     "name": "stderr",
     "output_type": "stream",
     "text": [
      "100%|██████████| 1000/1000 [08:30<00:00,  1.96it/s]\n"
     ]
    },
    {
     "name": "stdout",
     "output_type": "stream",
     "text": [
      "Epoch 138: Learning Rate: 0.000057 Training Loss: 0.000062 Validation Loss:0.000397\n",
      "Validation loss decreased(0.000399-->0.000397). Saving model ..\n"
     ]
    },
    {
     "name": "stderr",
     "output_type": "stream",
     "text": [
      "100%|██████████| 1000/1000 [09:41<00:00,  1.72it/s]\n"
     ]
    },
    {
     "name": "stdout",
     "output_type": "stream",
     "text": [
      "Epoch 139: Learning Rate: 0.000056 Training Loss: 0.000062 Validation Loss:0.000403\n"
     ]
    },
    {
     "name": "stderr",
     "output_type": "stream",
     "text": [
      "100%|██████████| 1000/1000 [09:42<00:00,  1.72it/s]\n"
     ]
    },
    {
     "name": "stdout",
     "output_type": "stream",
     "text": [
      "Epoch 140: Learning Rate: 0.000055 Training Loss: 0.000062 Validation Loss:0.000403\n"
     ]
    },
    {
     "name": "stderr",
     "output_type": "stream",
     "text": [
      "100%|██████████| 1000/1000 [09:13<00:00,  1.81it/s]\n"
     ]
    },
    {
     "name": "stdout",
     "output_type": "stream",
     "text": [
      "Epoch 141: Learning Rate: 0.000054 Training Loss: 0.000062 Validation Loss:0.000404\n"
     ]
    },
    {
     "name": "stderr",
     "output_type": "stream",
     "text": [
      "100%|██████████| 1000/1000 [09:36<00:00,  1.73it/s]\n"
     ]
    },
    {
     "name": "stdout",
     "output_type": "stream",
     "text": [
      "Epoch 142: Learning Rate: 0.000053 Training Loss: 0.000061 Validation Loss:0.000404\n"
     ]
    },
    {
     "name": "stderr",
     "output_type": "stream",
     "text": [
      "100%|██████████| 1000/1000 [09:25<00:00,  1.77it/s]\n"
     ]
    },
    {
     "name": "stdout",
     "output_type": "stream",
     "text": [
      "Epoch 143: Learning Rate: 0.000052 Training Loss: 0.000061 Validation Loss:0.000401\n"
     ]
    },
    {
     "name": "stderr",
     "output_type": "stream",
     "text": [
      "100%|██████████| 1000/1000 [07:43<00:00,  2.16it/s]\n"
     ]
    },
    {
     "name": "stdout",
     "output_type": "stream",
     "text": [
      "Epoch 144: Learning Rate: 0.000052 Training Loss: 0.000061 Validation Loss:0.000407\n"
     ]
    },
    {
     "name": "stderr",
     "output_type": "stream",
     "text": [
      "100%|██████████| 1000/1000 [07:02<00:00,  2.37it/s]\n"
     ]
    },
    {
     "name": "stdout",
     "output_type": "stream",
     "text": [
      "Epoch 145: Learning Rate: 0.000051 Training Loss: 0.000061 Validation Loss:0.000409\n"
     ]
    },
    {
     "name": "stderr",
     "output_type": "stream",
     "text": [
      "100%|██████████| 1000/1000 [07:03<00:00,  2.36it/s]\n"
     ]
    },
    {
     "name": "stdout",
     "output_type": "stream",
     "text": [
      "Epoch 146: Learning Rate: 0.000051 Training Loss: 0.000061 Validation Loss:0.000408\n"
     ]
    },
    {
     "name": "stderr",
     "output_type": "stream",
     "text": [
      "100%|██████████| 1000/1000 [08:55<00:00,  1.87it/s]\n"
     ]
    },
    {
     "name": "stdout",
     "output_type": "stream",
     "text": [
      "Epoch 147: Learning Rate: 0.000050 Training Loss: 0.000061 Validation Loss:0.000403\n"
     ]
    },
    {
     "name": "stderr",
     "output_type": "stream",
     "text": [
      "100%|██████████| 1000/1000 [09:33<00:00,  1.74it/s]\n"
     ]
    },
    {
     "name": "stdout",
     "output_type": "stream",
     "text": [
      "Epoch 148: Learning Rate: 0.000050 Training Loss: 0.000060 Validation Loss:0.000404\n"
     ]
    },
    {
     "name": "stderr",
     "output_type": "stream",
     "text": [
      "100%|██████████| 1000/1000 [09:13<00:00,  1.81it/s]\n"
     ]
    },
    {
     "name": "stdout",
     "output_type": "stream",
     "text": [
      "Epoch 149: Learning Rate: 0.000050 Training Loss: 0.000061 Validation Loss:0.000402\n"
     ]
    },
    {
     "name": "stderr",
     "output_type": "stream",
     "text": [
      "100%|██████████| 1000/1000 [07:08<00:00,  2.33it/s]\n"
     ]
    },
    {
     "name": "stdout",
     "output_type": "stream",
     "text": [
      "Epoch 150: Learning Rate: 0.000050 Training Loss: 0.000060 Validation Loss:0.000402\n"
     ]
    }
   ],
   "source": [
    "# initialize tracker for minimum validation loss\n",
    "# valid_loss_min = np.Inf # set initial \"min\" to infinity\n",
    "valid_loss_min = np.inf # set initial \"min\" to infinity\n",
    "\n",
    "# initialize history for recording what we want to know\n",
    "history = []\n",
    "\n",
    "for epoch in range(config[\"n_epochs\"]):\n",
    "    # monitor training loss, validation loss and learning rate\n",
    "    train_loss = 0.0\n",
    "    valid_loss = 0.0\n",
    "    lrs    = []\n",
    "    result = {'train_loss': [], 'val_loss': [], 'lrs': []}\n",
    "\n",
    "    # prepare model for training\n",
    "    model.train()\n",
    "\n",
    "    #######################\n",
    "    # train the model #\n",
    "    #######################\n",
    "    for batch in tqdm(train_dl):\n",
    "        for i in range(len(batch['image'])):\n",
    "            # clear the gradients of all optimized variables\n",
    "            optimizer.zero_grad()\n",
    "            # forward pass: compute predicted outputs by passing inputs to the model\n",
    "            output = model(batch['image'][i].to(config['device']))\n",
    "            # calculate the loss\n",
    "            loss = criterion(output, batch['keypoints'][i].to(config['device']))\n",
    "            # backward pass: compute gradient of the loss with respect to model parameters\n",
    "            loss.backward()\n",
    "            # perform a single optimization step (parameter update)\n",
    "            optimizer.step()\n",
    "            scheduler.step()\n",
    "\n",
    "            # record learning rate\n",
    "            lrs.append(optimizer.param_groups[0]['lr'])\n",
    "\n",
    "            # update running training loss\n",
    "            train_loss += loss.item()*batch['image'][i].size(0)\n",
    "\n",
    "    ######################\n",
    "    # validate the model #\n",
    "    ######################\n",
    "    model.eval()\n",
    "    for batch in val_dl:\n",
    "        # compute predicted outputs by passing inputs to the model\n",
    "        output = model(batch['image'][0].to(config['device']))\n",
    "        # calculate the loss\n",
    "        loss = criterion(output, batch['keypoints'][0].to(config['device']))\n",
    "        # update running validation loss\n",
    "        valid_loss += loss.item()*batch['image'][0].size(0)\n",
    "\n",
    "    # print training/validation statistics\n",
    "    # calculate average loss over an epoch\n",
    "    train_loss = train_loss/(len(train_dl.dataset)*config[\"rot_num\"])\n",
    "    result['train_loss'] = train_loss\n",
    "    valid_loss = valid_loss/len(val_dl.dataset)\n",
    "    result['val_loss'] = valid_loss\n",
    "    leaning_rate = lrs\n",
    "    result['lrs'] = leaning_rate\n",
    "    history.append(result)\n",
    "\n",
    "    print('Epoch {:2d}: Learning Rate: {:.6f} Training Loss: {:.6f} Validation Loss:{:.6f}'.format(\n",
    "        epoch+1,\n",
    "        leaning_rate[-1],\n",
    "        train_loss,\n",
    "        valid_loss\n",
    "        ))\n",
    "\n",
    "    # save model if validation loss has decreased\n",
    "    if valid_loss <= valid_loss_min:\n",
    "        print(\"Validation loss decreased({:.6f}-->{:.6f}). Saving model ..\".format(\n",
    "        valid_loss_min,\n",
    "        valid_loss\n",
    "        ))\n",
    "        torch.save(model.state_dict(),\"model.pt\")\n",
    "        valid_loss_min = valid_loss"
   ]
  },
  {
   "cell_type": "code",
   "execution_count": null,
   "metadata": {
    "id": "em-PUm2HXEKg"
   },
   "outputs": [
    {
     "name": "stdout",
     "output_type": "stream",
     "text": [
      "Save model weight successfully.\n"
     ]
    }
   ],
   "source": [
    "# from google.colab import drive\n",
    "# drive.mount('/content/drive')\n",
    "\n",
    "# torch.save(model.state_dict(), '/home/va8800/ken_ai/v3_2/model_weights.pth')\n",
    "torch.save(model.state_dict(), '/home/STuser19/MID/v3/model_weights.pth')\n",
    "print(\"Save model weight successfully.\")"
   ]
  },
  {
   "cell_type": "code",
   "execution_count": null,
   "metadata": {
    "id": "4rVmvw-feZRM"
   },
   "outputs": [
    {
     "data": {
      "image/png": "[encoded data removed]",
      "text/plain": [
       "<Figure size 640x480 with 1 Axes>"
      ]
     },
     "metadata": {},
     "output_type": "display_data"
    }
   ],
   "source": [
    "def plot_losses(history):\n",
    "  train_losses = [x.get('train_loss') for x in history]\n",
    "  val_losses = [x['val_loss'] for x in history]\n",
    "  plt.plot(train_losses, '-bx')\n",
    "  plt.plot(val_losses, '-rx')\n",
    "  plt.xlabel('epoch')\n",
    "  plt.ylabel('loss')\n",
    "  plt.legend(['Training', 'Validation'])\n",
    "  plt.title('Loss vs. No. of epochs');\n",
    "\n",
    "plot_losses(history)"
   ]
  },
  {
   "cell_type": "code",
   "execution_count": null,
   "metadata": {
    "id": "VXM16izaeZW5"
   },
   "outputs": [
    {
     "data": {
      "image/png": "[encoded data removed]",
      "text/plain": [
       "<Figure size 640x480 with 1 Axes>"
      ]
     },
     "metadata": {},
     "output_type": "display_data"
    }
   ],
   "source": [
    "def plot_lrs(history):\n",
    "  lrs = np.concatenate([x.get('lrs', []) for x in history])\n",
    "  plt.plot(lrs)\n",
    "  plt.xlabel('Batch no.')\n",
    "  plt.ylabel('Learning rate')\n",
    "  plt.title('Learning Rate vs. Batch no.');\n",
    "\n",
    "plot_lrs(history)"
   ]
  },
  {
   "cell_type": "markdown",
   "metadata": {
    "id": "d5L12W9QQ-y1"
   },
   "source": [
    "# Load your model"
   ]
  },
  {
   "cell_type": "code",
   "execution_count": null,
   "metadata": {
    "id": "4rQRCaHFQ_Bd"
   },
   "outputs": [
    {
     "data": {
      "text/plain": [
       "<All keys matched successfully>"
      ]
     },
     "execution_count": 109,
     "metadata": {},
     "output_type": "execute_result"
    }
   ],
   "source": [
    "# weight_path = '/home/va8800/ken_ai/v3_2/model_weights.pth'\n",
    "weight_path = '/home/STuser19/MID/v3/model_weights.pth'\n",
    "\n",
    "checkpoint = torch.load(weight_path)\n",
    "model.eval()\n",
    "model.load_state_dict(checkpoint, strict=True)"
   ]
  },
  {
   "cell_type": "code",
   "execution_count": null,
   "metadata": {
    "id": "LhRSBI9rsQzD"
   },
   "outputs": [
    {
     "name": "stdout",
     "output_type": "stream",
     "text": [
      "HandPoseNet(\n",
      "  (mobileNet1): MobileNetV3(\n",
      "    (features): Sequential(\n",
      "      (0): Conv2dNormActivation(\n",
      "        (0): Conv2d(3, 16, kernel_size=(3, 3), stride=(2, 2), padding=(1, 1), bias=False)\n",
      "        (1): BatchNorm2d(16, eps=0.001, momentum=0.01, affine=True, track_running_stats=True)\n",
      "        (2): Hardswish()\n",
      "      )\n",
      "      (1): InvertedResidual(\n",
      "        (block): Sequential(\n",
      "          (0): Conv2dNormActivation(\n",
      "            (0): Conv2d(16, 16, kernel_size=(3, 3), stride=(2, 2), padding=(1, 1), groups=16, bias=False)\n",
      "            (1): BatchNorm2d(16, eps=0.001, momentum=0.01, affine=True, track_running_stats=True)\n",
      "            (2): ReLU(inplace=True)\n",
      "          )\n",
      "          (1): SqueezeExcitation(\n",
      "            (avgpool): AdaptiveAvgPool2d(output_size=1)\n",
      "            (fc1): Conv2d(16, 8, kernel_size=(1, 1), stride=(1, 1))\n",
      "            (fc2): Conv2d(8, 16, kernel_size=(1, 1), stride=(1, 1))\n",
      "            (activation): ReLU()\n",
      "            (scale_activation): Hardsigmoid()\n",
      "          )\n",
      "          (2): Conv2dNormActivation(\n",
      "            (0): Conv2d(16, 16, kernel_size=(1, 1), stride=(1, 1), bias=False)\n",
      "            (1): BatchNorm2d(16, eps=0.001, momentum=0.01, affine=True, track_running_stats=True)\n",
      "          )\n",
      "        )\n",
      "      )\n",
      "      (2): InvertedResidual(\n",
      "        (block): Sequential(\n",
      "          (0): Conv2dNormActivation(\n",
      "            (0): Conv2d(16, 72, kernel_size=(1, 1), stride=(1, 1), bias=False)\n",
      "            (1): BatchNorm2d(72, eps=0.001, momentum=0.01, affine=True, track_running_stats=True)\n",
      "            (2): ReLU(inplace=True)\n",
      "          )\n",
      "          (1): Conv2dNormActivation(\n",
      "            (0): Conv2d(72, 72, kernel_size=(3, 3), stride=(2, 2), padding=(1, 1), groups=72, bias=False)\n",
      "            (1): BatchNorm2d(72, eps=0.001, momentum=0.01, affine=True, track_running_stats=True)\n",
      "            (2): ReLU(inplace=True)\n",
      "          )\n",
      "          (2): Conv2dNormActivation(\n",
      "            (0): Conv2d(72, 24, kernel_size=(1, 1), stride=(1, 1), bias=False)\n",
      "            (1): BatchNorm2d(24, eps=0.001, momentum=0.01, affine=True, track_running_stats=True)\n",
      "          )\n",
      "        )\n",
      "      )\n",
      "      (3): InvertedResidual(\n",
      "        (block): Sequential(\n",
      "          (0): Conv2dNormActivation(\n",
      "            (0): Conv2d(24, 88, kernel_size=(1, 1), stride=(1, 1), bias=False)\n",
      "            (1): BatchNorm2d(88, eps=0.001, momentum=0.01, affine=True, track_running_stats=True)\n",
      "            (2): ReLU(inplace=True)\n",
      "          )\n",
      "          (1): Conv2dNormActivation(\n",
      "            (0): Conv2d(88, 88, kernel_size=(3, 3), stride=(1, 1), padding=(1, 1), groups=88, bias=False)\n",
      "            (1): BatchNorm2d(88, eps=0.001, momentum=0.01, affine=True, track_running_stats=True)\n",
      "            (2): ReLU(inplace=True)\n",
      "          )\n",
      "          (2): Conv2dNormActivation(\n",
      "            (0): Conv2d(88, 24, kernel_size=(1, 1), stride=(1, 1), bias=False)\n",
      "            (1): BatchNorm2d(24, eps=0.001, momentum=0.01, affine=True, track_running_stats=True)\n",
      "          )\n",
      "        )\n",
      "      )\n",
      "      (4): InvertedResidual(\n",
      "        (block): Sequential(\n",
      "          (0): Conv2dNormActivation(\n",
      "            (0): Conv2d(24, 96, kernel_size=(1, 1), stride=(1, 1), bias=False)\n",
      "            (1): BatchNorm2d(96, eps=0.001, momentum=0.01, affine=True, track_running_stats=True)\n",
      "            (2): Hardswish()\n",
      "          )\n",
      "          (1): Conv2dNormActivation(\n",
      "            (0): Conv2d(96, 96, kernel_size=(5, 5), stride=(2, 2), padding=(2, 2), groups=96, bias=False)\n",
      "            (1): BatchNorm2d(96, eps=0.001, momentum=0.01, affine=True, track_running_stats=True)\n",
      "            (2): Hardswish()\n",
      "          )\n",
      "          (2): SqueezeExcitation(\n",
      "            (avgpool): AdaptiveAvgPool2d(output_size=1)\n",
      "            (fc1): Conv2d(96, 24, kernel_size=(1, 1), stride=(1, 1))\n",
      "            (fc2): Conv2d(24, 96, kernel_size=(1, 1), stride=(1, 1))\n",
      "            (activation): ReLU()\n",
      "            (scale_activation): Hardsigmoid()\n",
      "          )\n",
      "          (3): Conv2dNormActivation(\n",
      "            (0): Conv2d(96, 40, kernel_size=(1, 1), stride=(1, 1), bias=False)\n",
      "            (1): BatchNorm2d(40, eps=0.001, momentum=0.01, affine=True, track_running_stats=True)\n",
      "          )\n",
      "        )\n",
      "      )\n",
      "      (5): InvertedResidual(\n",
      "        (block): Sequential(\n",
      "          (0): Conv2dNormActivation(\n",
      "            (0): Conv2d(40, 240, kernel_size=(1, 1), stride=(1, 1), bias=False)\n",
      "            (1): BatchNorm2d(240, eps=0.001, momentum=0.01, affine=True, track_running_stats=True)\n",
      "            (2): Hardswish()\n",
      "          )\n",
      "          (1): Conv2dNormActivation(\n",
      "            (0): Conv2d(240, 240, kernel_size=(5, 5), stride=(1, 1), padding=(2, 2), groups=240, bias=False)\n",
      "            (1): BatchNorm2d(240, eps=0.001, momentum=0.01, affine=True, track_running_stats=True)\n",
      "            (2): Hardswish()\n",
      "          )\n",
      "          (2): SqueezeExcitation(\n",
      "            (avgpool): AdaptiveAvgPool2d(output_size=1)\n",
      "            (fc1): Conv2d(240, 64, kernel_size=(1, 1), stride=(1, 1))\n",
      "            (fc2): Conv2d(64, 240, kernel_size=(1, 1), stride=(1, 1))\n",
      "            (activation): ReLU()\n",
      "            (scale_activation): Hardsigmoid()\n",
      "          )\n",
      "          (3): Conv2dNormActivation(\n",
      "            (0): Conv2d(240, 40, kernel_size=(1, 1), stride=(1, 1), bias=False)\n",
      "            (1): BatchNorm2d(40, eps=0.001, momentum=0.01, affine=True, track_running_stats=True)\n",
      "          )\n",
      "        )\n",
      "      )\n",
      "      (6): InvertedResidual(\n",
      "        (block): Sequential(\n",
      "          (0): Conv2dNormActivation(\n",
      "            (0): Conv2d(40, 240, kernel_size=(1, 1), stride=(1, 1), bias=False)\n",
      "            (1): BatchNorm2d(240, eps=0.001, momentum=0.01, affine=True, track_running_stats=True)\n",
      "            (2): Hardswish()\n",
      "          )\n",
      "          (1): Conv2dNormActivation(\n",
      "            (0): Conv2d(240, 240, kernel_size=(5, 5), stride=(1, 1), padding=(2, 2), groups=240, bias=False)\n",
      "            (1): BatchNorm2d(240, eps=0.001, momentum=0.01, affine=True, track_running_stats=True)\n",
      "            (2): Hardswish()\n",
      "          )\n",
      "          (2): SqueezeExcitation(\n",
      "            (avgpool): AdaptiveAvgPool2d(output_size=1)\n",
      "            (fc1): Conv2d(240, 64, kernel_size=(1, 1), stride=(1, 1))\n",
      "            (fc2): Conv2d(64, 240, kernel_size=(1, 1), stride=(1, 1))\n",
      "            (activation): ReLU()\n",
      "            (scale_activation): Hardsigmoid()\n",
      "          )\n",
      "          (3): Conv2dNormActivation(\n",
      "            (0): Conv2d(240, 40, kernel_size=(1, 1), stride=(1, 1), bias=False)\n",
      "            (1): BatchNorm2d(40, eps=0.001, momentum=0.01, affine=True, track_running_stats=True)\n",
      "          )\n",
      "        )\n",
      "      )\n",
      "      (7): InvertedResidual(\n",
      "        (block): Sequential(\n",
      "          (0): Conv2dNormActivation(\n",
      "            (0): Conv2d(40, 120, kernel_size=(1, 1), stride=(1, 1), bias=False)\n",
      "            (1): BatchNorm2d(120, eps=0.001, momentum=0.01, affine=True, track_running_stats=True)\n",
      "            (2): Hardswish()\n",
      "          )\n",
      "          (1): Conv2dNormActivation(\n",
      "            (0): Conv2d(120, 120, kernel_size=(5, 5), stride=(1, 1), padding=(2, 2), groups=120, bias=False)\n",
      "            (1): BatchNorm2d(120, eps=0.001, momentum=0.01, affine=True, track_running_stats=True)\n",
      "            (2): Hardswish()\n",
      "          )\n",
      "          (2): SqueezeExcitation(\n",
      "            (avgpool): AdaptiveAvgPool2d(output_size=1)\n",
      "            (fc1): Conv2d(120, 32, kernel_size=(1, 1), stride=(1, 1))\n",
      "            (fc2): Conv2d(32, 120, kernel_size=(1, 1), stride=(1, 1))\n",
      "            (activation): ReLU()\n",
      "            (scale_activation): Hardsigmoid()\n",
      "          )\n",
      "          (3): Conv2dNormActivation(\n",
      "            (0): Conv2d(120, 48, kernel_size=(1, 1), stride=(1, 1), bias=False)\n",
      "            (1): BatchNorm2d(48, eps=0.001, momentum=0.01, affine=True, track_running_stats=True)\n",
      "          )\n",
      "        )\n",
      "      )\n",
      "      (8): InvertedResidual(\n",
      "        (block): Sequential(\n",
      "          (0): Conv2dNormActivation(\n",
      "            (0): Conv2d(48, 144, kernel_size=(1, 1), stride=(1, 1), bias=False)\n",
      "            (1): BatchNorm2d(144, eps=0.001, momentum=0.01, affine=True, track_running_stats=True)\n",
      "            (2): Hardswish()\n",
      "          )\n",
      "          (1): Conv2dNormActivation(\n",
      "            (0): Conv2d(144, 144, kernel_size=(5, 5), stride=(1, 1), padding=(2, 2), groups=144, bias=False)\n",
      "            (1): BatchNorm2d(144, eps=0.001, momentum=0.01, affine=True, track_running_stats=True)\n",
      "            (2): Hardswish()\n",
      "          )\n",
      "          (2): SqueezeExcitation(\n",
      "            (avgpool): AdaptiveAvgPool2d(output_size=1)\n",
      "            (fc1): Conv2d(144, 40, kernel_size=(1, 1), stride=(1, 1))\n",
      "            (fc2): Conv2d(40, 144, kernel_size=(1, 1), stride=(1, 1))\n",
      "            (activation): ReLU()\n",
      "            (scale_activation): Hardsigmoid()\n",
      "          )\n",
      "          (3): Conv2dNormActivation(\n",
      "            (0): Conv2d(144, 48, kernel_size=(1, 1), stride=(1, 1), bias=False)\n",
      "            (1): BatchNorm2d(48, eps=0.001, momentum=0.01, affine=True, track_running_stats=True)\n",
      "          )\n",
      "        )\n",
      "      )\n",
      "      (9): InvertedResidual(\n",
      "        (block): Sequential(\n",
      "          (0): Conv2dNormActivation(\n",
      "            (0): Conv2d(48, 288, kernel_size=(1, 1), stride=(1, 1), bias=False)\n",
      "            (1): BatchNorm2d(288, eps=0.001, momentum=0.01, affine=True, track_running_stats=True)\n",
      "            (2): Hardswish()\n",
      "          )\n",
      "          (1): Conv2dNormActivation(\n",
      "            (0): Conv2d(288, 288, kernel_size=(5, 5), stride=(2, 2), padding=(2, 2), groups=288, bias=False)\n",
      "            (1): BatchNorm2d(288, eps=0.001, momentum=0.01, affine=True, track_running_stats=True)\n",
      "            (2): Hardswish()\n",
      "          )\n",
      "          (2): SqueezeExcitation(\n",
      "            (avgpool): AdaptiveAvgPool2d(output_size=1)\n",
      "            (fc1): Conv2d(288, 72, kernel_size=(1, 1), stride=(1, 1))\n",
      "            (fc2): Conv2d(72, 288, kernel_size=(1, 1), stride=(1, 1))\n",
      "            (activation): ReLU()\n",
      "            (scale_activation): Hardsigmoid()\n",
      "          )\n",
      "          (3): Conv2dNormActivation(\n",
      "            (0): Conv2d(288, 96, kernel_size=(1, 1), stride=(1, 1), bias=False)\n",
      "            (1): BatchNorm2d(96, eps=0.001, momentum=0.01, affine=True, track_running_stats=True)\n",
      "          )\n",
      "        )\n",
      "      )\n",
      "      (10): InvertedResidual(\n",
      "        (block): Sequential(\n",
      "          (0): Conv2dNormActivation(\n",
      "            (0): Conv2d(96, 576, kernel_size=(1, 1), stride=(1, 1), bias=False)\n",
      "            (1): BatchNorm2d(576, eps=0.001, momentum=0.01, affine=True, track_running_stats=True)\n",
      "            (2): Hardswish()\n",
      "          )\n",
      "          (1): Conv2dNormActivation(\n",
      "            (0): Conv2d(576, 576, kernel_size=(5, 5), stride=(1, 1), padding=(2, 2), groups=576, bias=False)\n",
      "            (1): BatchNorm2d(576, eps=0.001, momentum=0.01, affine=True, track_running_stats=True)\n",
      "            (2): Hardswish()\n",
      "          )\n",
      "          (2): SqueezeExcitation(\n",
      "            (avgpool): AdaptiveAvgPool2d(output_size=1)\n",
      "            (fc1): Conv2d(576, 144, kernel_size=(1, 1), stride=(1, 1))\n",
      "            (fc2): Conv2d(144, 576, kernel_size=(1, 1), stride=(1, 1))\n",
      "            (activation): ReLU()\n",
      "            (scale_activation): Hardsigmoid()\n",
      "          )\n",
      "          (3): Conv2dNormActivation(\n",
      "            (0): Conv2d(576, 96, kernel_size=(1, 1), stride=(1, 1), bias=False)\n",
      "            (1): BatchNorm2d(96, eps=0.001, momentum=0.01, affine=True, track_running_stats=True)\n",
      "          )\n",
      "        )\n",
      "      )\n",
      "      (11): InvertedResidual(\n",
      "        (block): Sequential(\n",
      "          (0): Conv2dNormActivation(\n",
      "            (0): Conv2d(96, 576, kernel_size=(1, 1), stride=(1, 1), bias=False)\n",
      "            (1): BatchNorm2d(576, eps=0.001, momentum=0.01, affine=True, track_running_stats=True)\n",
      "            (2): Hardswish()\n",
      "          )\n",
      "          (1): Conv2dNormActivation(\n",
      "            (0): Conv2d(576, 576, kernel_size=(5, 5), stride=(1, 1), padding=(2, 2), groups=576, bias=False)\n",
      "            (1): BatchNorm2d(576, eps=0.001, momentum=0.01, affine=True, track_running_stats=True)\n",
      "            (2): Hardswish()\n",
      "          )\n",
      "          (2): SqueezeExcitation(\n",
      "            (avgpool): AdaptiveAvgPool2d(output_size=1)\n",
      "            (fc1): Conv2d(576, 144, kernel_size=(1, 1), stride=(1, 1))\n",
      "            (fc2): Conv2d(144, 576, kernel_size=(1, 1), stride=(1, 1))\n",
      "            (activation): ReLU()\n",
      "            (scale_activation): Hardsigmoid()\n",
      "          )\n",
      "          (3): Conv2dNormActivation(\n",
      "            (0): Conv2d(576, 96, kernel_size=(1, 1), stride=(1, 1), bias=False)\n",
      "            (1): BatchNorm2d(96, eps=0.001, momentum=0.01, affine=True, track_running_stats=True)\n",
      "          )\n",
      "        )\n",
      "      )\n",
      "      (12): Conv2dNormActivation(\n",
      "        (0): Conv2d(96, 576, kernel_size=(1, 1), stride=(1, 1), bias=False)\n",
      "        (1): BatchNorm2d(576, eps=0.001, momentum=0.01, affine=True, track_running_stats=True)\n",
      "        (2): Hardswish()\n",
      "      )\n",
      "    )\n",
      "    (avgpool): AdaptiveAvgPool2d(output_size=1)\n",
      "    (classifier): Sequential(\n",
      "      (0): Linear(in_features=576, out_features=1024, bias=True)\n",
      "      (1): Hardswish()\n",
      "      (2): Dropout(p=0.2, inplace=True)\n",
      "      (3): Linear(in_features=1024, out_features=1000, bias=True)\n",
      "    )\n",
      "  )\n",
      "  (dw1): Sequential(\n",
      "    (0): Conv2d(576, 64, kernel_size=(1, 1), stride=(1, 1))\n",
      "    (1): ReLU6()\n",
      "    (2): Conv2d(64, 64, kernel_size=(3, 3), stride=(1, 1), padding=(1, 1), groups=64)\n",
      "    (3): ReLU6()\n",
      "    (4): Conv2d(64, 128, kernel_size=(1, 1), stride=(1, 1))\n",
      "  )\n",
      "  (conv_1x1): Conv2d(576, 128, kernel_size=(1, 1), stride=(1, 1))\n",
      "  (leakyRelu): LeakyReLU(negative_slope=0.01)\n",
      "  (dw2): Sequential(\n",
      "    (0): Conv2d(128, 64, kernel_size=(1, 1), stride=(1, 1))\n",
      "    (1): ReLU6()\n",
      "    (2): Conv2d(64, 64, kernel_size=(3, 3), stride=(1, 1), padding=(1, 1), groups=64)\n",
      "    (3): ReLU6()\n",
      "    (4): Conv2d(64, 128, kernel_size=(1, 1), stride=(1, 1))\n",
      "    (5): ReLU6()\n",
      "  )\n",
      "  (transposed_conv1): Sequential(\n",
      "    (0): ConvTranspose2d(128, 128, kernel_size=(4, 4), stride=(2, 2), padding=(1, 1))\n",
      "    (1): ReLU6()\n",
      "  )\n",
      "  (transposed_conv2): Sequential(\n",
      "    (0): ConvTranspose2d(128, 63, kernel_size=(4, 4), stride=(2, 2), padding=(1, 1))\n",
      "  )\n",
      "  (dw3): Sequential(\n",
      "    (0): Conv2d(191, 128, kernel_size=(1, 1), stride=(1, 1))\n",
      "    (1): Conv2d(128, 128, kernel_size=(3, 3), stride=(1, 1), padding=(1, 1), groups=128)\n",
      "    (2): ReLU6()\n",
      "    (3): Conv2d(128, 63, kernel_size=(1, 1), stride=(1, 1))\n",
      "  )\n",
      "  (fc1): Linear(in_features=12348, out_features=42, bias=True)\n",
      ")\n"
     ]
    }
   ],
   "source": [
    "print(model)"
   ]
  },
  {
   "cell_type": "markdown",
   "metadata": {
    "id": "m5_9PMTshxgh"
   },
   "source": [
    "# Testing part (**do not modify!!**)"
   ]
  },
  {
   "cell_type": "code",
   "execution_count": null,
   "metadata": {
    "id": "wyulctAF6IAT"
   },
   "outputs": [],
   "source": [
    "class Testing_dataset(Dataset):\n",
    "  def __init__(self, config):\n",
    "    self.image_names = natsorted(glob(os.path.join(config['data_dir'], 'testing/rgb', '*.jpg')))\n",
    "\n",
    "  def __len__(self):\n",
    "    return len(self.image_names)\n",
    "\n",
    "  def __getitem__(self, idx):\n",
    "    # input\n",
    "    image_name = self.image_names[idx]\n",
    "    image = cv2.imread(image_name)\n",
    "    image = torch.from_numpy(image.transpose(2, 0 ,1))\n",
    "    image = image / 255\n",
    "\n",
    "    return {\n",
    "      'image_name': image_name,\n",
    "      'image': image,\n",
    "    }"
   ]
  },
  {
   "cell_type": "code",
   "execution_count": null,
   "metadata": {
    "id": "g_sBtvANBoi5"
   },
   "outputs": [],
   "source": [
    "test_ds = Testing_dataset(config)\n",
    "test_dl = DataLoader(test_ds, batch_size=1, shuffle=False, drop_last=False, num_workers=0)"
   ]
  },
  {
   "cell_type": "code",
   "execution_count": null,
   "metadata": {
    "id": "Iv8KgYCVJWc7"
   },
   "outputs": [],
   "source": [
    "with open('./FreiHAND_pub_v2/golden_out.json', 'r') as f:\n",
    "  golden_out = json.load(f)"
   ]
  },
  {
   "cell_type": "code",
   "execution_count": null,
   "metadata": {
    "id": "pCGAOevPCQvF"
   },
   "outputs": [],
   "source": [
    "def evaluate(dataloader, model, golden_out):\n",
    "  print(f'Total {len(dataloader)} iterations to be tested.')\n",
    "\n",
    "  with torch.no_grad():\n",
    "    result = {}\n",
    "    loss = []\n",
    "    pixeldiff = []\n",
    "    for i, data in tqdm(enumerate(dataloader)):\n",
    "      image_name = data['image_name'][0][-22:]\n",
    "      # get golden ans and inputs\n",
    "      golden_ans = torch.from_numpy(np.array(golden_out[image_name])).float().cuda()\n",
    "      inputs = data['image'].cuda()\n",
    "\n",
    "      # get predicted output\n",
    "      outputs = model(inputs)\n",
    "\n",
    "      # get loss\n",
    "      l = criterion(outputs, golden_ans).cpu().numpy()\n",
    "      loss.append(l)\n",
    "      pixeldiff.append(np.sqrt(l) * 223)\n",
    "\n",
    "      pred = outputs.cpu().detach().numpy().tolist()\n",
    "      result.update({image_name: pred})\n",
    "\n",
    "  print('\\nTesting successfully!')\n",
    "  return result, loss, pixeldiff"
   ]
  },
  {
   "cell_type": "code",
   "execution_count": null,
   "metadata": {
    "id": "wzOAAKK4fxDw"
   },
   "outputs": [
    {
     "name": "stdout",
     "output_type": "stream",
     "text": [
      "Total 1000 iterations to be tested.\n"
     ]
    },
    {
     "name": "stderr",
     "output_type": "stream",
     "text": [
      "1000it [00:10, 95.72it/s]"
     ]
    },
    {
     "name": "stdout",
     "output_type": "stream",
     "text": [
      "\n",
      "Testing successfully!\n"
     ]
    },
    {
     "name": "stderr",
     "output_type": "stream",
     "text": [
      "\n"
     ]
    }
   ],
   "source": [
    "result, loss, pixeldiff = evaluate(test_dl, model, golden_out)\n",
    "\n",
    "with open(\"result.json\", \"w\") as outfile:\n",
    "  json.dump(result, outfile)"
   ]
  },
  {
   "cell_type": "code",
   "execution_count": null,
   "metadata": {
    "id": "okgGYyGcPZ5a"
   },
   "outputs": [],
   "source": [
    "with open('ID_result.csv', 'w') as f:\n",
    "  f.write('Id,Loss\\n')\n",
    "  for i, data in enumerate(pixeldiff):\n",
    "    f.write(str(i)+','+str(data)+'\\n')"
   ]
  },
  {
   "cell_type": "code",
   "execution_count": null,
   "metadata": {
    "id": "qi_TysEclX69"
   },
   "outputs": [
    {
     "data": {
      "text/plain": [
       "'/home/STuser19/MID/v3/ID_result.csv'"
      ]
     },
     "execution_count": 117,
     "metadata": {},
     "output_type": "execute_result"
    }
   ],
   "source": [
    "import shutil\n",
    "shutil.move('ID_result.csv', '/home/STuser19/MID/v3/ID_result.csv')\n",
    "# shutil.move('ID_result.csv', '/home/va8800/ken_ai/v3_2/ID_result.csv')"
   ]
  },
  {
   "cell_type": "code",
   "execution_count": null,
   "metadata": {},
   "outputs": [
    {
     "name": "stdout",
     "output_type": "stream",
     "text": [
      "FLOPS: 0.302601376 G, Params: 2.007968 M., avg pixeldiff: 6.152803876982536, avg loss: 0.00122355786152184\n",
      "ranking score:  285.59885234255654\n"
     ]
    }
   ],
   "source": [
    "print(f'FLOPS: {macs * 2 / 1e9} G, Params: {parm / 1e6} M., avg pixeldiff: {np.mean(pixeldiff)}, avg loss: {np.mean(loss)}')\n",
    "score = (macs * 2 / 1e9) * (parm / 1e6) * math.exp(np.mean(pixeldiff))\n",
    "print(\"ranking score: \", \"{:,}\".format(score))"
   ]
  }
 ],
 "metadata": {
  "accelerator": "GPU",
  "colab": {
   "collapsed_sections": [
    "nKHgOCW7hAYS"
   ],
   "gpuType": "T4",
   "provenance": []
  },
  "kernelspec": {
   "display_name": "Python 3 (ipykernel)",
   "language": "python",
   "name": "python3"
  },
  "language_info": {
   "codemirror_mode": {
    "name": "ipython",
    "version": 3
   },
   "file_extension": ".py",
   "mimetype": "text/x-python",
   "name": "python",
   "nbconvert_exporter": "python",
   "pygments_lexer": "ipython3",
   "version": "3.12.4"
  }
 },
 "nbformat": 4,
 "nbformat_minor": 4
}
